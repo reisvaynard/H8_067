{
 "cells": [
  {
   "cell_type": "code",
   "execution_count": 3,
   "id": "29a1762d",
   "metadata": {},
   "outputs": [],
   "source": [
    "import numpy as np"
   ]
  },
  {
   "cell_type": "code",
   "execution_count": 2,
   "id": "e63a1903",
   "metadata": {},
   "outputs": [
    {
     "name": "stdout",
     "output_type": "stream",
     "text": [
      "Note: you may need to restart the kernel to use updated packages.\n"
     ]
    },
    {
     "name": "stderr",
     "output_type": "stream",
     "text": [
      "'C:\\Users\\Ibrahim' is not recognized as an internal or external command,\n",
      "operable program or batch file.\n"
     ]
    }
   ],
   "source": [
    "pip install numpy"
   ]
  },
  {
   "cell_type": "code",
   "execution_count": 4,
   "id": "a034ae85",
   "metadata": {},
   "outputs": [
    {
     "data": {
      "text/plain": [
       "numpy.ndarray"
      ]
     },
     "execution_count": 4,
     "metadata": {},
     "output_type": "execute_result"
    }
   ],
   "source": [
    "b = np.array([1,2,3])\n",
    "type(b)"
   ]
  },
  {
   "cell_type": "code",
   "execution_count": 10,
   "id": "f755f411",
   "metadata": {},
   "outputs": [],
   "source": [
    "a = [1,2,3]"
   ]
  },
  {
   "cell_type": "code",
   "execution_count": 11,
   "id": "35e68ddb",
   "metadata": {
    "scrolled": true
   },
   "outputs": [
    {
     "name": "stdout",
     "output_type": "stream",
     "text": [
      "[1 2 3]\n",
      "[1, 2, 3]\n"
     ]
    }
   ],
   "source": [
    "print(b)\n",
    "print(a)"
   ]
  },
  {
   "cell_type": "code",
   "execution_count": 12,
   "id": "b3da2095",
   "metadata": {},
   "outputs": [
    {
     "data": {
      "text/plain": [
       "array([[1, 2, 3],\n",
       "       [4, 5, 6]])"
      ]
     },
     "execution_count": 12,
     "metadata": {},
     "output_type": "execute_result"
    }
   ],
   "source": [
    "a = np.array([[1,2,3], [4,5,6]])\n",
    "a"
   ]
  },
  {
   "cell_type": "code",
   "execution_count": 14,
   "id": "00ebe3cf",
   "metadata": {},
   "outputs": [
    {
     "data": {
      "text/plain": [
       "array([0., 0.])"
      ]
     },
     "execution_count": 14,
     "metadata": {},
     "output_type": "execute_result"
    }
   ],
   "source": [
    "np.zeros(2)"
   ]
  },
  {
   "cell_type": "code",
   "execution_count": 16,
   "id": "91ccbb2b",
   "metadata": {},
   "outputs": [
    {
     "data": {
      "text/plain": [
       "array([[1., 1., 1.],\n",
       "       [1., 1., 1.]])"
      ]
     },
     "execution_count": 16,
     "metadata": {},
     "output_type": "execute_result"
    }
   ],
   "source": [
    "np.ones((2,3))"
   ]
  },
  {
   "cell_type": "code",
   "execution_count": 17,
   "id": "9eaeadae",
   "metadata": {},
   "outputs": [
    {
     "data": {
      "text/plain": [
       "array([ 1.06210118e-311,  0.00000000e+000, -6.47591605e-319])"
      ]
     },
     "execution_count": 17,
     "metadata": {},
     "output_type": "execute_result"
    }
   ],
   "source": [
    "np.empty(3)"
   ]
  },
  {
   "cell_type": "code",
   "execution_count": 18,
   "id": "4bb99420",
   "metadata": {},
   "outputs": [
    {
     "data": {
      "text/plain": [
       "array([0, 1, 2, 3, 4])"
      ]
     },
     "execution_count": 18,
     "metadata": {},
     "output_type": "execute_result"
    }
   ],
   "source": [
    "np.arange(5)"
   ]
  },
  {
   "cell_type": "code",
   "execution_count": 19,
   "id": "70cd7690",
   "metadata": {},
   "outputs": [
    {
     "data": {
      "text/plain": [
       "array([ 1,  3,  5,  7,  9, 11])"
      ]
     },
     "execution_count": 19,
     "metadata": {},
     "output_type": "execute_result"
    }
   ],
   "source": [
    "np.arange(1, 13, 2) #start, stop, step"
   ]
  },
  {
   "cell_type": "markdown",
   "id": "2aec2fa9",
   "metadata": {},
   "source": [
    "# Add, Remove, Sort"
   ]
  },
  {
   "cell_type": "code",
   "execution_count": 21,
   "id": "1f3325ba",
   "metadata": {},
   "outputs": [
    {
     "data": {
      "text/plain": [
       "array([ 1,  2,  3, 10])"
      ]
     },
     "execution_count": 21,
     "metadata": {},
     "output_type": "execute_result"
    }
   ],
   "source": [
    "a = np.array([1,2,3])\n",
    "np.append(a, 10)"
   ]
  },
  {
   "cell_type": "code",
   "execution_count": 22,
   "id": "732c9e71",
   "metadata": {},
   "outputs": [
    {
     "data": {
      "text/plain": [
       "array([1, 3])"
      ]
     },
     "execution_count": 22,
     "metadata": {},
     "output_type": "execute_result"
    }
   ],
   "source": [
    "np.delete(a, 1)"
   ]
  },
  {
   "cell_type": "code",
   "execution_count": 23,
   "id": "c2710111",
   "metadata": {},
   "outputs": [
    {
     "data": {
      "text/plain": [
       "array([1, 2, 3, 2])"
      ]
     },
     "execution_count": 23,
     "metadata": {},
     "output_type": "execute_result"
    }
   ],
   "source": [
    "np.append(a, 2)"
   ]
  },
  {
   "cell_type": "code",
   "execution_count": 27,
   "id": "b9f06c87",
   "metadata": {},
   "outputs": [
    {
     "data": {
      "text/plain": [
       "2"
      ]
     },
     "execution_count": 27,
     "metadata": {},
     "output_type": "execute_result"
    }
   ],
   "source": [
    "b = np.array([[1,2], [3,4]])\n",
    "b.ndim"
   ]
  },
  {
   "cell_type": "code",
   "execution_count": 28,
   "id": "6ea9a787",
   "metadata": {},
   "outputs": [
    {
     "name": "stdout",
     "output_type": "stream",
     "text": [
      "3\n",
      "4\n"
     ]
    }
   ],
   "source": [
    "print(a.size)\n",
    "print(b.size)"
   ]
  },
  {
   "cell_type": "code",
   "execution_count": 30,
   "id": "29a4289c",
   "metadata": {},
   "outputs": [
    {
     "name": "stdout",
     "output_type": "stream",
     "text": [
      "[0 1 2 3 4 5]\n",
      "(6,)\n",
      "\n",
      "[[0 1]\n",
      " [2 3]\n",
      " [4 5]]\n"
     ]
    }
   ],
   "source": [
    "a = np.arange(6)\n",
    "print(a)\n",
    "print(a.shape)\n",
    "print()\n",
    "\n",
    "b = a.reshape(3,2)\n",
    "print(b)"
   ]
  },
  {
   "cell_type": "code",
   "execution_count": 33,
   "id": "cb9beb95",
   "metadata": {},
   "outputs": [
    {
     "name": "stdout",
     "output_type": "stream",
     "text": [
      "(6,)\n",
      "(1, 6)\n",
      "[[1 2 3 4 5 6]]\n",
      "(1, 1, 6)\n",
      "[[[1 2 3 4 5 6]]]\n"
     ]
    }
   ],
   "source": [
    "a = np.array([1,2,3,4,5,6])\n",
    "print(a.shape)\n",
    "\n",
    "a2 = a[np.newaxis]\n",
    "print(a2.shape)\n",
    "print(a2)\n",
    "\n",
    "a3 = a2[np.newaxis]\n",
    "print(a3.shape)\n",
    "print(a3)"
   ]
  },
  {
   "cell_type": "code",
   "execution_count": 34,
   "id": "702728c7",
   "metadata": {},
   "outputs": [
    {
     "name": "stdout",
     "output_type": "stream",
     "text": [
      "[0 1 2 3 4 5 6 7 8 9]\n",
      "0\n",
      "5\n",
      "[0 1 2]\n",
      "[8 9]\n",
      "[5 6 7 8 9]\n"
     ]
    }
   ],
   "source": [
    "a = np.arange(0,10, 1)\n",
    "print(a)\n",
    "print(a[0])\n",
    "print(a[5])\n",
    "print(a[0:3])\n",
    "print(a[8:])\n",
    "print(a[-5:])"
   ]
  },
  {
   "cell_type": "code",
   "execution_count": 39,
   "id": "0f27c295",
   "metadata": {},
   "outputs": [
    {
     "name": "stdout",
     "output_type": "stream",
     "text": [
      "[6 7 8 9]\n",
      "[0 1 2 3 4 5 6 7]\n",
      "[6 7]\n",
      "[2 6 7]\n"
     ]
    }
   ],
   "source": [
    "lima_keatas = (a > 5)\n",
    "lapan_kebawah = (a < 8)\n",
    "dua = (a == 2)\n",
    "print(a[lima_keatas])\n",
    "print(a[lapan_kebawah])\n",
    "print(a[lima_keatas & lapan_kebawah])\n",
    "print(a[(lima_keatas | dua) & lapan_kebawah])"
   ]
  },
  {
   "cell_type": "code",
   "execution_count": 42,
   "id": "d79fa796",
   "metadata": {},
   "outputs": [
    {
     "name": "stdout",
     "output_type": "stream",
     "text": [
      "Vertical / Kolom axis=0\n",
      "[[2 2]\n",
      " [3 3]\n",
      " [1 1]\n",
      " [2 2]]\n",
      "Horizontal / Baris / axis=1\n",
      "[[2 2 1 1]\n",
      " [3 3 2 2]]\n"
     ]
    }
   ],
   "source": [
    "a = np.array([[2,2],\n",
    "             [3,3]])\n",
    "\n",
    "b = np.array([[1,1],\n",
    "             [2,2]])\n",
    "print('Vertical / Kolom axis=0')\n",
    "print(np.vstack((a,b)))\n",
    "print('Horizontal / Baris / axis=1')\n",
    "print(np.hstack((a,b)))"
   ]
  },
  {
   "cell_type": "code",
   "execution_count": 46,
   "id": "889cb525",
   "metadata": {},
   "outputs": [
    {
     "name": "stdout",
     "output_type": "stream",
     "text": [
      "[ 0  1  2  3  4  5  6  7  8  9 10 11 12 13 14 15 16 17 18 19 20]\n",
      "21\n"
     ]
    }
   ],
   "source": [
    "a = np.arange(0, 21, 1)\n",
    "b = np.arange(0, 5, 1)\n",
    "\n",
    "print(a)\n",
    "print(len(a))"
   ]
  },
  {
   "cell_type": "code",
   "execution_count": 47,
   "id": "60d1a9bb",
   "metadata": {
    "scrolled": true
   },
   "outputs": [
    {
     "name": "stdout",
     "output_type": "stream",
     "text": [
      "[array([0, 1, 2, 3, 4, 5, 6]), array([ 7,  8,  9, 10, 11, 12, 13]), array([14, 15, 16, 17, 18, 19, 20])]\n",
      "7\n",
      "7\n"
     ]
    }
   ],
   "source": [
    "c = np.hsplit(a, 3)\n",
    "print(c)\n",
    "print(c[0].size)\n",
    "print(c[1].size)"
   ]
  },
  {
   "cell_type": "code",
   "execution_count": 49,
   "id": "f947c2d5",
   "metadata": {},
   "outputs": [
    {
     "name": "stdout",
     "output_type": "stream",
     "text": [
      "[[1 1]\n",
      " [2 2]\n",
      " [3 3]]\n",
      "3\n",
      "[array([[1, 1]]), array([[2, 2]]), array([[3, 3]])]\n",
      "3\n"
     ]
    }
   ],
   "source": [
    "a = np.array([[1,1],\n",
    "             [2,2],\n",
    "             [3,3]])\n",
    "print(a)\n",
    "print(len(a))\n",
    "b = np.vsplit(a, 3)\n",
    "print(b)\n",
    "print(len(b))"
   ]
  },
  {
   "cell_type": "code",
   "execution_count": 51,
   "id": "9bb40dc2",
   "metadata": {},
   "outputs": [
    {
     "name": "stdout",
     "output_type": "stream",
     "text": [
      "A\n",
      "[[1 1]\n",
      " [2 2]\n",
      " [3 3]]\n",
      "\n",
      "B\n",
      "[[1 1]\n",
      " [2 2]\n",
      " [3 3]]\n",
      "\n",
      "C\n",
      "[[1 1]\n",
      " [2 2]\n",
      " [3 3]]\n",
      "\n"
     ]
    }
   ],
   "source": [
    "print('A')\n",
    "print(a)\n",
    "print()\n",
    "\n",
    "print('B')\n",
    "b = a.view()\n",
    "print(b)\n",
    "print()\n",
    "\n",
    "print('C')\n",
    "c = a.copy()\n",
    "print(c)\n",
    "print()"
   ]
  },
  {
   "cell_type": "code",
   "execution_count": 52,
   "id": "c54b0863",
   "metadata": {},
   "outputs": [
    {
     "name": "stdout",
     "output_type": "stream",
     "text": [
      "[1 2 3 4]\n",
      "\n",
      "10\n"
     ]
    }
   ],
   "source": [
    "a = np.arange(1,5,1)\n",
    "print(a)\n",
    "print()\n",
    "print(a.sum())"
   ]
  },
  {
   "cell_type": "code",
   "execution_count": 53,
   "id": "917895fc",
   "metadata": {},
   "outputs": [
    {
     "data": {
      "text/plain": [
       "array([3, 4, 5])"
      ]
     },
     "execution_count": 53,
     "metadata": {},
     "output_type": "execute_result"
    }
   ],
   "source": [
    "data = np.array([1,2,3])\n",
    "tambah = np.array([2,2,2])\n",
    "data + tambah"
   ]
  },
  {
   "cell_type": "code",
   "execution_count": 55,
   "id": "b5e06bbb",
   "metadata": {},
   "outputs": [
    {
     "data": {
      "text/plain": [
       "array([[3, 4, 5],\n",
       "       [5, 6, 7]])"
      ]
     },
     "execution_count": 55,
     "metadata": {},
     "output_type": "execute_result"
    }
   ],
   "source": [
    "data = np.array([[1,2,3],\n",
    "                [4,5,6]])\n",
    "tambah = np.array([[2,2,2],\n",
    "                  [1,1,1]])\n",
    "data + tambah"
   ]
  },
  {
   "cell_type": "code",
   "execution_count": 56,
   "id": "5cb9e371",
   "metadata": {},
   "outputs": [
    {
     "data": {
      "text/plain": [
       "array([[2, 4, 6],\n",
       "       [4, 5, 6]])"
      ]
     },
     "execution_count": 56,
     "metadata": {},
     "output_type": "execute_result"
    }
   ],
   "source": [
    "data * tambah"
   ]
  },
  {
   "cell_type": "code",
   "execution_count": 59,
   "id": "e0c3368b",
   "metadata": {},
   "outputs": [
    {
     "name": "stdout",
     "output_type": "stream",
     "text": [
      "[[1 2 3]\n",
      " [4 5 6]]\n",
      "21\n",
      "[5 7 9]\n",
      "\n",
      "[ 6 15]\n"
     ]
    }
   ],
   "source": [
    "print(data) #2x3\n",
    "print()\n",
    "print(data.sum()) # jumlah semua\n",
    "print(data.sum(axis=0)) # menjumlahkan kolom\n",
    "print()\n",
    "print(data.sum(axis=1)) # menjumlahkan baris"
   ]
  },
  {
   "cell_type": "code",
   "execution_count": 60,
   "id": "3184ed72",
   "metadata": {},
   "outputs": [
    {
     "data": {
      "text/plain": [
       "3.5"
      ]
     },
     "execution_count": 60,
     "metadata": {},
     "output_type": "execute_result"
    }
   ],
   "source": [
    "data.mean()"
   ]
  },
  {
   "cell_type": "code",
   "execution_count": 61,
   "id": "8126ecd4",
   "metadata": {},
   "outputs": [
    {
     "name": "stdout",
     "output_type": "stream",
     "text": [
      "[[1 4]\n",
      " [2 5]\n",
      " [3 6]]\n"
     ]
    }
   ],
   "source": [
    "data = data.T\n",
    "print(data)"
   ]
  },
  {
   "cell_type": "code",
   "execution_count": 64,
   "id": "e5ca39a3",
   "metadata": {},
   "outputs": [
    {
     "name": "stdout",
     "output_type": "stream",
     "text": [
      "Data\n",
      " [[1 2]\n",
      " [3 4]]\n",
      "Ones\n",
      " [[1. 1.]\n",
      " [1. 1.]]\n",
      "\n",
      " [[2. 3.]\n",
      " [4. 5.]]\n"
     ]
    }
   ],
   "source": [
    "data = np.array([[1,2], [3,4]])\n",
    "print('Data\\n', data)\n",
    "ones = np.ones([2,2])\n",
    "print('Ones\\n', ones)\n",
    "print('\\n', data+ones)"
   ]
  },
  {
   "cell_type": "code",
   "execution_count": 65,
   "id": "bd16d400",
   "metadata": {},
   "outputs": [
    {
     "name": "stdout",
     "output_type": "stream",
     "text": [
      "Data\n",
      " [[1 2]\n",
      " [3 4]]\n",
      "One Row\n",
      " [[1. 1.]]\n",
      "\n",
      " [[2. 3.]\n",
      " [4. 5.]]\n"
     ]
    }
   ],
   "source": [
    "print('Data\\n', data)\n",
    "ones_row = np.ones([1,2])\n",
    "print('One Row\\n', ones_row)\n",
    "print('\\n', data + ones_row)"
   ]
  },
  {
   "cell_type": "code",
   "execution_count": 66,
   "id": "c19761e8",
   "metadata": {},
   "outputs": [
    {
     "name": "stdout",
     "output_type": "stream",
     "text": [
      "[[1 2 3]\n",
      " [4 5 6]]\n",
      "size =  6\n",
      "shape =  (2, 3)\n",
      "\n",
      "[[ 7  8]\n",
      " [ 9 10]\n",
      " [10 11]]\n",
      "size =  6\n",
      "shape =  (3, 2)\n",
      "\n",
      "Result\n",
      "[[ 55  61]\n",
      " [133 148]]\n",
      "\n",
      "Result2\n"
     ]
    },
    {
     "ename": "ValueError",
     "evalue": "operands could not be broadcast together with shapes (2,3) (3,2) ",
     "output_type": "error",
     "traceback": [
      "\u001b[1;31m---------------------------------------------------------------------------\u001b[0m",
      "\u001b[1;31mValueError\u001b[0m                                Traceback (most recent call last)",
      "\u001b[1;32m<ipython-input-66-9031ece80b9e>\u001b[0m in \u001b[0;36m<module>\u001b[1;34m\u001b[0m\n\u001b[0;32m     15\u001b[0m \u001b[1;33m\u001b[0m\u001b[0m\n\u001b[0;32m     16\u001b[0m \u001b[0mprint\u001b[0m\u001b[1;33m(\u001b[0m\u001b[1;34m'Result2'\u001b[0m\u001b[1;33m)\u001b[0m\u001b[1;33m\u001b[0m\u001b[1;33m\u001b[0m\u001b[0m\n\u001b[1;32m---> 17\u001b[1;33m \u001b[0mprint\u001b[0m\u001b[1;33m(\u001b[0m\u001b[0ma_1\u001b[0m \u001b[1;33m*\u001b[0m \u001b[0ma_2\u001b[0m\u001b[1;33m)\u001b[0m\u001b[1;33m\u001b[0m\u001b[1;33m\u001b[0m\u001b[0m\n\u001b[0m",
      "\u001b[1;31mValueError\u001b[0m: operands could not be broadcast together with shapes (2,3) (3,2) "
     ]
    }
   ],
   "source": [
    "a_1 = np.array([[1,2,3], [4,5,6]])\n",
    "print(a_1)\n",
    "print('size = ', a_1.size)\n",
    "print('shape = ', a_1.shape)\n",
    "print()\n",
    "a_2 = np.array([[7,8], [9,10], [10, 11]])\n",
    "print(a_2)\n",
    "print('size = ', a_2.size)\n",
    "print('shape = ', a_2.shape)\n",
    "print()\n",
    "a_3 = np.array([[2,2,2]])\n",
    "print(a_3)\n",
    "print('size = ', a_3.size)\n",
    "print('shape = ', a_3.shape)\n",
    "print()\n",
    "\n",
    "print('Result')\n",
    "A = np.dot(a_1, a_2)\n",
    "print(A)\n",
    "print('size = ', a_3.size)\n",
    "print('shape = ', a_3.shape)\n",
    "print()\n",
    "\n",
    "print('Result2')\n",
    "print(a_1 * a_2)"
   ]
  },
  {
   "cell_type": "code",
   "execution_count": 67,
   "id": "e48612e5",
   "metadata": {},
   "outputs": [
    {
     "name": "stdout",
     "output_type": "stream",
     "text": [
      "[[1 2 3]\n",
      " [4 5 6]\n",
      " [7 8 9]]\n",
      "8\n"
     ]
    }
   ],
   "source": [
    "data = np.array([[1,2,3], [4,5,6], [7,8,9]])\n",
    "print(data)\n",
    "\n",
    "print(data[2,1])"
   ]
  },
  {
   "cell_type": "code",
   "execution_count": 69,
   "id": "c259ce84",
   "metadata": {},
   "outputs": [
    {
     "data": {
      "text/plain": [
       "array([[[ 1,  2],\n",
       "        [ 2,  3],\n",
       "        [ 3,  4]],\n",
       "\n",
       "       [[ 4,  5],\n",
       "        [ 5,  6],\n",
       "        [ 6,  7]],\n",
       "\n",
       "       [[ 7,  8],\n",
       "        [ 8,  9],\n",
       "        [ 9, 10]]])"
      ]
     },
     "metadata": {},
     "output_type": "display_data"
    },
    {
     "name": "stdout",
     "output_type": "stream",
     "text": [
      "3\n",
      "(3, 3, 2)\n",
      "3\n"
     ]
    }
   ],
   "source": [
    "data = np.array([[[1,2],[2,3],[3,4]], [[4,5],[5,6],[6,7]], [[7,8],[8,9],[9,10]]])\n",
    "display(data)\n",
    "print(data.ndim)\n",
    "print(data.shape)\n",
    "print(data[0,1,1]) #X, Y, Z"
   ]
  },
  {
   "cell_type": "code",
   "execution_count": 70,
   "id": "704b2806",
   "metadata": {},
   "outputs": [
    {
     "name": "stdout",
     "output_type": "stream",
     "text": [
      "[[  1   2   3]\n",
      " [  0  10 100]]\n",
      "shape =  (2, 3)\n",
      "\n",
      "[[  1   2]\n",
      " [  3   0]\n",
      " [ 10 100]]\n",
      "shape =  (3, 2)\n",
      "\n",
      "shape =  (2, 3)\n"
     ]
    }
   ],
   "source": [
    "data = np.array([[1,2,3],\n",
    "                [0,10,100]])\n",
    "print(data)\n",
    "print('shape = ', data.shape)\n",
    "print()\n",
    "print(data.reshape(3,2))\n",
    "print('shape = ', data.reshape(3,2).shape)\n",
    "print()\n",
    "print('shape = ', data.shape)"
   ]
  },
  {
   "cell_type": "code",
   "execution_count": 71,
   "id": "03c2a48d",
   "metadata": {},
   "outputs": [
    {
     "name": "stdout",
     "output_type": "stream",
     "text": [
      "[[[[1. 1. 1. 1.]\n",
      "   [1. 1. 1. 1.]]\n",
      "\n",
      "  [[1. 1. 1. 1.]\n",
      "   [1. 1. 1. 1.]]]\n",
      "\n",
      "\n",
      " [[[1. 1. 1. 1.]\n",
      "   [1. 1. 1. 1.]]\n",
      "\n",
      "  [[1. 1. 1. 1.]\n",
      "   [1. 1. 1. 1.]]]\n",
      "\n",
      "\n",
      " [[[1. 1. 1. 1.]\n",
      "   [1. 1. 1. 1.]]\n",
      "\n",
      "  [[1. 1. 1. 1.]\n",
      "   [1. 1. 1. 1.]]]]\n",
      "4\n",
      "(3, 2, 2, 4)\n",
      "[[[1. 1. 1. 1.]\n",
      "  [1. 1. 1. 1.]]\n",
      "\n",
      " [[1. 1. 1. 1.]\n",
      "  [1. 1. 1. 1.]]]\n"
     ]
    }
   ],
   "source": [
    "data = np.ones((3,2,2,4))\n",
    "print(data)\n",
    "print(np.ones((3,2,2,4)).ndim)\n",
    "print(np.ones((3,2,2,4)).shape)\n",
    "\n",
    "print(data[0])"
   ]
  },
  {
   "cell_type": "code",
   "execution_count": null,
   "id": "90d9b7ad",
   "metadata": {},
   "outputs": [],
   "source": [
    "# 1/n sigma i-n(Yi - Yi>)**\n",
    "\n",
    "1/n * np.sum(np.square(yi - yi>))"
   ]
  },
  {
   "cell_type": "code",
   "execution_count": null,
   "id": "d8072d93",
   "metadata": {},
   "outputs": [],
   "source": []
  }
 ],
 "metadata": {
  "kernelspec": {
   "display_name": "Python 3",
   "language": "python",
   "name": "python3"
  },
  "language_info": {
   "codemirror_mode": {
    "name": "ipython",
    "version": 3
   },
   "file_extension": ".py",
   "mimetype": "text/x-python",
   "name": "python",
   "nbconvert_exporter": "python",
   "pygments_lexer": "ipython3",
   "version": "3.8.8"
  }
 },
 "nbformat": 4,
 "nbformat_minor": 5
}

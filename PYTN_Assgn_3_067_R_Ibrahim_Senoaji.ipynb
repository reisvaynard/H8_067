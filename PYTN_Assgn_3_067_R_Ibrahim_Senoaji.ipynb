{
 "cells": [
  {
   "cell_type": "code",
   "execution_count": 46,
   "id": "89ec2562-10b0-4b53-9791-7fb56f91249f",
   "metadata": {},
   "outputs": [],
   "source": [
    "import numpy as np\n",
    "import pandas as pd\n",
    "\n",
    "import matplotlib as mpl\n",
    "import matplotlib.pyplot as plt\n",
    "\n",
    "%matplotlib inline\n",
    "\n",
    "import math\n",
    "import statistics\n",
    "import scipy.stats\n",
    "pd.set_option('display.max.columns',None)\n",
    "from sklearn.linear_model import LogisticRegression\n",
    "from sklearn.metrics import classification_report,confusion_matrix\n",
    "from sklearn.neighbors import KNeighborsClassifier\n",
    "from sklearn.naive_bayes import GaussianNB\n",
    "from sklearn.ensemble import RandomForestClassifier\n",
    "from sklearn.tree import DecisionTreeClassifier"
   ]
  },
  {
   "cell_type": "code",
   "execution_count": 7,
   "id": "d177dae0-c704-4849-b39c-9206f5ad08e0",
   "metadata": {},
   "outputs": [],
   "source": [
    "df = pd.read_csv('./dataset/bank-full.csv',sep=\";\")"
   ]
  },
  {
   "cell_type": "code",
   "execution_count": 8,
   "id": "7a585488-1d65-455b-ae70-94d74d31511b",
   "metadata": {},
   "outputs": [
    {
     "data": {
      "text/html": [
       "<div>\n",
       "<style scoped>\n",
       "    .dataframe tbody tr th:only-of-type {\n",
       "        vertical-align: middle;\n",
       "    }\n",
       "\n",
       "    .dataframe tbody tr th {\n",
       "        vertical-align: top;\n",
       "    }\n",
       "\n",
       "    .dataframe thead th {\n",
       "        text-align: right;\n",
       "    }\n",
       "</style>\n",
       "<table border=\"1\" class=\"dataframe\">\n",
       "  <thead>\n",
       "    <tr style=\"text-align: right;\">\n",
       "      <th></th>\n",
       "      <th>age</th>\n",
       "      <th>job</th>\n",
       "      <th>marital</th>\n",
       "      <th>education</th>\n",
       "      <th>default</th>\n",
       "      <th>balance</th>\n",
       "      <th>housing</th>\n",
       "      <th>loan</th>\n",
       "      <th>contact</th>\n",
       "      <th>day</th>\n",
       "      <th>month</th>\n",
       "      <th>duration</th>\n",
       "      <th>campaign</th>\n",
       "      <th>pdays</th>\n",
       "      <th>previous</th>\n",
       "      <th>poutcome</th>\n",
       "      <th>y</th>\n",
       "    </tr>\n",
       "  </thead>\n",
       "  <tbody>\n",
       "    <tr>\n",
       "      <th>0</th>\n",
       "      <td>58</td>\n",
       "      <td>management</td>\n",
       "      <td>married</td>\n",
       "      <td>tertiary</td>\n",
       "      <td>no</td>\n",
       "      <td>2143</td>\n",
       "      <td>yes</td>\n",
       "      <td>no</td>\n",
       "      <td>unknown</td>\n",
       "      <td>5</td>\n",
       "      <td>may</td>\n",
       "      <td>261</td>\n",
       "      <td>1</td>\n",
       "      <td>-1</td>\n",
       "      <td>0</td>\n",
       "      <td>unknown</td>\n",
       "      <td>no</td>\n",
       "    </tr>\n",
       "    <tr>\n",
       "      <th>1</th>\n",
       "      <td>44</td>\n",
       "      <td>technician</td>\n",
       "      <td>single</td>\n",
       "      <td>secondary</td>\n",
       "      <td>no</td>\n",
       "      <td>29</td>\n",
       "      <td>yes</td>\n",
       "      <td>no</td>\n",
       "      <td>unknown</td>\n",
       "      <td>5</td>\n",
       "      <td>may</td>\n",
       "      <td>151</td>\n",
       "      <td>1</td>\n",
       "      <td>-1</td>\n",
       "      <td>0</td>\n",
       "      <td>unknown</td>\n",
       "      <td>no</td>\n",
       "    </tr>\n",
       "    <tr>\n",
       "      <th>2</th>\n",
       "      <td>33</td>\n",
       "      <td>entrepreneur</td>\n",
       "      <td>married</td>\n",
       "      <td>secondary</td>\n",
       "      <td>no</td>\n",
       "      <td>2</td>\n",
       "      <td>yes</td>\n",
       "      <td>yes</td>\n",
       "      <td>unknown</td>\n",
       "      <td>5</td>\n",
       "      <td>may</td>\n",
       "      <td>76</td>\n",
       "      <td>1</td>\n",
       "      <td>-1</td>\n",
       "      <td>0</td>\n",
       "      <td>unknown</td>\n",
       "      <td>no</td>\n",
       "    </tr>\n",
       "    <tr>\n",
       "      <th>3</th>\n",
       "      <td>47</td>\n",
       "      <td>blue-collar</td>\n",
       "      <td>married</td>\n",
       "      <td>unknown</td>\n",
       "      <td>no</td>\n",
       "      <td>1506</td>\n",
       "      <td>yes</td>\n",
       "      <td>no</td>\n",
       "      <td>unknown</td>\n",
       "      <td>5</td>\n",
       "      <td>may</td>\n",
       "      <td>92</td>\n",
       "      <td>1</td>\n",
       "      <td>-1</td>\n",
       "      <td>0</td>\n",
       "      <td>unknown</td>\n",
       "      <td>no</td>\n",
       "    </tr>\n",
       "    <tr>\n",
       "      <th>4</th>\n",
       "      <td>33</td>\n",
       "      <td>unknown</td>\n",
       "      <td>single</td>\n",
       "      <td>unknown</td>\n",
       "      <td>no</td>\n",
       "      <td>1</td>\n",
       "      <td>no</td>\n",
       "      <td>no</td>\n",
       "      <td>unknown</td>\n",
       "      <td>5</td>\n",
       "      <td>may</td>\n",
       "      <td>198</td>\n",
       "      <td>1</td>\n",
       "      <td>-1</td>\n",
       "      <td>0</td>\n",
       "      <td>unknown</td>\n",
       "      <td>no</td>\n",
       "    </tr>\n",
       "  </tbody>\n",
       "</table>\n",
       "</div>"
      ],
      "text/plain": [
       "   age           job  marital  education default  balance housing loan  \\\n",
       "0   58    management  married   tertiary      no     2143     yes   no   \n",
       "1   44    technician   single  secondary      no       29     yes   no   \n",
       "2   33  entrepreneur  married  secondary      no        2     yes  yes   \n",
       "3   47   blue-collar  married    unknown      no     1506     yes   no   \n",
       "4   33       unknown   single    unknown      no        1      no   no   \n",
       "\n",
       "   contact  day month  duration  campaign  pdays  previous poutcome   y  \n",
       "0  unknown    5   may       261         1     -1         0  unknown  no  \n",
       "1  unknown    5   may       151         1     -1         0  unknown  no  \n",
       "2  unknown    5   may        76         1     -1         0  unknown  no  \n",
       "3  unknown    5   may        92         1     -1         0  unknown  no  \n",
       "4  unknown    5   may       198         1     -1         0  unknown  no  "
      ]
     },
     "execution_count": 8,
     "metadata": {},
     "output_type": "execute_result"
    }
   ],
   "source": [
    "#melihat 5 data teratas\n",
    "df.head()"
   ]
  },
  {
   "cell_type": "code",
   "execution_count": 9,
   "id": "988c2d0c-7aa9-4d8c-815a-60aff6bbc99b",
   "metadata": {},
   "outputs": [
    {
     "data": {
      "text/html": [
       "<div>\n",
       "<style scoped>\n",
       "    .dataframe tbody tr th:only-of-type {\n",
       "        vertical-align: middle;\n",
       "    }\n",
       "\n",
       "    .dataframe tbody tr th {\n",
       "        vertical-align: top;\n",
       "    }\n",
       "\n",
       "    .dataframe thead th {\n",
       "        text-align: right;\n",
       "    }\n",
       "</style>\n",
       "<table border=\"1\" class=\"dataframe\">\n",
       "  <thead>\n",
       "    <tr style=\"text-align: right;\">\n",
       "      <th></th>\n",
       "      <th>age</th>\n",
       "      <th>job</th>\n",
       "      <th>marital</th>\n",
       "      <th>education</th>\n",
       "      <th>default</th>\n",
       "      <th>balance</th>\n",
       "      <th>housing</th>\n",
       "      <th>loan</th>\n",
       "      <th>contact</th>\n",
       "      <th>day</th>\n",
       "      <th>month</th>\n",
       "      <th>duration</th>\n",
       "      <th>campaign</th>\n",
       "      <th>pdays</th>\n",
       "      <th>previous</th>\n",
       "      <th>poutcome</th>\n",
       "      <th>y</th>\n",
       "    </tr>\n",
       "  </thead>\n",
       "  <tbody>\n",
       "    <tr>\n",
       "      <th>45206</th>\n",
       "      <td>51</td>\n",
       "      <td>technician</td>\n",
       "      <td>married</td>\n",
       "      <td>tertiary</td>\n",
       "      <td>no</td>\n",
       "      <td>825</td>\n",
       "      <td>no</td>\n",
       "      <td>no</td>\n",
       "      <td>cellular</td>\n",
       "      <td>17</td>\n",
       "      <td>nov</td>\n",
       "      <td>977</td>\n",
       "      <td>3</td>\n",
       "      <td>-1</td>\n",
       "      <td>0</td>\n",
       "      <td>unknown</td>\n",
       "      <td>yes</td>\n",
       "    </tr>\n",
       "    <tr>\n",
       "      <th>45207</th>\n",
       "      <td>71</td>\n",
       "      <td>retired</td>\n",
       "      <td>divorced</td>\n",
       "      <td>primary</td>\n",
       "      <td>no</td>\n",
       "      <td>1729</td>\n",
       "      <td>no</td>\n",
       "      <td>no</td>\n",
       "      <td>cellular</td>\n",
       "      <td>17</td>\n",
       "      <td>nov</td>\n",
       "      <td>456</td>\n",
       "      <td>2</td>\n",
       "      <td>-1</td>\n",
       "      <td>0</td>\n",
       "      <td>unknown</td>\n",
       "      <td>yes</td>\n",
       "    </tr>\n",
       "    <tr>\n",
       "      <th>45208</th>\n",
       "      <td>72</td>\n",
       "      <td>retired</td>\n",
       "      <td>married</td>\n",
       "      <td>secondary</td>\n",
       "      <td>no</td>\n",
       "      <td>5715</td>\n",
       "      <td>no</td>\n",
       "      <td>no</td>\n",
       "      <td>cellular</td>\n",
       "      <td>17</td>\n",
       "      <td>nov</td>\n",
       "      <td>1127</td>\n",
       "      <td>5</td>\n",
       "      <td>184</td>\n",
       "      <td>3</td>\n",
       "      <td>success</td>\n",
       "      <td>yes</td>\n",
       "    </tr>\n",
       "    <tr>\n",
       "      <th>45209</th>\n",
       "      <td>57</td>\n",
       "      <td>blue-collar</td>\n",
       "      <td>married</td>\n",
       "      <td>secondary</td>\n",
       "      <td>no</td>\n",
       "      <td>668</td>\n",
       "      <td>no</td>\n",
       "      <td>no</td>\n",
       "      <td>telephone</td>\n",
       "      <td>17</td>\n",
       "      <td>nov</td>\n",
       "      <td>508</td>\n",
       "      <td>4</td>\n",
       "      <td>-1</td>\n",
       "      <td>0</td>\n",
       "      <td>unknown</td>\n",
       "      <td>no</td>\n",
       "    </tr>\n",
       "    <tr>\n",
       "      <th>45210</th>\n",
       "      <td>37</td>\n",
       "      <td>entrepreneur</td>\n",
       "      <td>married</td>\n",
       "      <td>secondary</td>\n",
       "      <td>no</td>\n",
       "      <td>2971</td>\n",
       "      <td>no</td>\n",
       "      <td>no</td>\n",
       "      <td>cellular</td>\n",
       "      <td>17</td>\n",
       "      <td>nov</td>\n",
       "      <td>361</td>\n",
       "      <td>2</td>\n",
       "      <td>188</td>\n",
       "      <td>11</td>\n",
       "      <td>other</td>\n",
       "      <td>no</td>\n",
       "    </tr>\n",
       "  </tbody>\n",
       "</table>\n",
       "</div>"
      ],
      "text/plain": [
       "       age           job   marital  education default  balance housing loan  \\\n",
       "45206   51    technician   married   tertiary      no      825      no   no   \n",
       "45207   71       retired  divorced    primary      no     1729      no   no   \n",
       "45208   72       retired   married  secondary      no     5715      no   no   \n",
       "45209   57   blue-collar   married  secondary      no      668      no   no   \n",
       "45210   37  entrepreneur   married  secondary      no     2971      no   no   \n",
       "\n",
       "         contact  day month  duration  campaign  pdays  previous poutcome    y  \n",
       "45206   cellular   17   nov       977         3     -1         0  unknown  yes  \n",
       "45207   cellular   17   nov       456         2     -1         0  unknown  yes  \n",
       "45208   cellular   17   nov      1127         5    184         3  success  yes  \n",
       "45209  telephone   17   nov       508         4     -1         0  unknown   no  \n",
       "45210   cellular   17   nov       361         2    188        11    other   no  "
      ]
     },
     "execution_count": 9,
     "metadata": {},
     "output_type": "execute_result"
    }
   ],
   "source": [
    "#melihat 5 data terbawah\n",
    "df.tail()"
   ]
  },
  {
   "cell_type": "code",
   "execution_count": 11,
   "id": "23617a1a-865f-49ac-b90a-fc48af2dc15d",
   "metadata": {},
   "outputs": [
    {
     "data": {
      "text/plain": [
       "(45211, 17)"
      ]
     },
     "execution_count": 11,
     "metadata": {},
     "output_type": "execute_result"
    }
   ],
   "source": [
    "#melihat jumlah baris dan kolom\n",
    "df.shape"
   ]
  },
  {
   "cell_type": "code",
   "execution_count": 12,
   "id": "a677e497-e6a7-48dd-bd24-0681fcd0ff00",
   "metadata": {},
   "outputs": [
    {
     "name": "stdout",
     "output_type": "stream",
     "text": [
      "<class 'pandas.core.frame.DataFrame'>\n",
      "RangeIndex: 45211 entries, 0 to 45210\n",
      "Data columns (total 17 columns):\n",
      " #   Column     Non-Null Count  Dtype \n",
      "---  ------     --------------  ----- \n",
      " 0   age        45211 non-null  int64 \n",
      " 1   job        45211 non-null  object\n",
      " 2   marital    45211 non-null  object\n",
      " 3   education  45211 non-null  object\n",
      " 4   default    45211 non-null  object\n",
      " 5   balance    45211 non-null  int64 \n",
      " 6   housing    45211 non-null  object\n",
      " 7   loan       45211 non-null  object\n",
      " 8   contact    45211 non-null  object\n",
      " 9   day        45211 non-null  int64 \n",
      " 10  month      45211 non-null  object\n",
      " 11  duration   45211 non-null  int64 \n",
      " 12  campaign   45211 non-null  int64 \n",
      " 13  pdays      45211 non-null  int64 \n",
      " 14  previous   45211 non-null  int64 \n",
      " 15  poutcome   45211 non-null  object\n",
      " 16  y          45211 non-null  object\n",
      "dtypes: int64(7), object(10)\n",
      "memory usage: 5.9+ MB\n"
     ]
    }
   ],
   "source": [
    "#melihat informasi kolom dari dataframe\n",
    "df.info()"
   ]
  },
  {
   "cell_type": "code",
   "execution_count": 13,
   "id": "1bf53756-c91d-43db-90c5-fd2625133f51",
   "metadata": {},
   "outputs": [
    {
     "data": {
      "text/html": [
       "<div>\n",
       "<style scoped>\n",
       "    .dataframe tbody tr th:only-of-type {\n",
       "        vertical-align: middle;\n",
       "    }\n",
       "\n",
       "    .dataframe tbody tr th {\n",
       "        vertical-align: top;\n",
       "    }\n",
       "\n",
       "    .dataframe thead th {\n",
       "        text-align: right;\n",
       "    }\n",
       "</style>\n",
       "<table border=\"1\" class=\"dataframe\">\n",
       "  <thead>\n",
       "    <tr style=\"text-align: right;\">\n",
       "      <th></th>\n",
       "      <th>age</th>\n",
       "      <th>duration</th>\n",
       "    </tr>\n",
       "  </thead>\n",
       "  <tbody>\n",
       "    <tr>\n",
       "      <th>count</th>\n",
       "      <td>45211.000000</td>\n",
       "      <td>45211.000000</td>\n",
       "    </tr>\n",
       "    <tr>\n",
       "      <th>mean</th>\n",
       "      <td>40.936210</td>\n",
       "      <td>258.163080</td>\n",
       "    </tr>\n",
       "    <tr>\n",
       "      <th>std</th>\n",
       "      <td>10.618762</td>\n",
       "      <td>257.527812</td>\n",
       "    </tr>\n",
       "    <tr>\n",
       "      <th>min</th>\n",
       "      <td>18.000000</td>\n",
       "      <td>0.000000</td>\n",
       "    </tr>\n",
       "    <tr>\n",
       "      <th>25%</th>\n",
       "      <td>33.000000</td>\n",
       "      <td>103.000000</td>\n",
       "    </tr>\n",
       "    <tr>\n",
       "      <th>50%</th>\n",
       "      <td>39.000000</td>\n",
       "      <td>180.000000</td>\n",
       "    </tr>\n",
       "    <tr>\n",
       "      <th>75%</th>\n",
       "      <td>48.000000</td>\n",
       "      <td>319.000000</td>\n",
       "    </tr>\n",
       "    <tr>\n",
       "      <th>max</th>\n",
       "      <td>95.000000</td>\n",
       "      <td>4918.000000</td>\n",
       "    </tr>\n",
       "  </tbody>\n",
       "</table>\n",
       "</div>"
      ],
      "text/plain": [
       "                age      duration\n",
       "count  45211.000000  45211.000000\n",
       "mean      40.936210    258.163080\n",
       "std       10.618762    257.527812\n",
       "min       18.000000      0.000000\n",
       "25%       33.000000    103.000000\n",
       "50%       39.000000    180.000000\n",
       "75%       48.000000    319.000000\n",
       "max       95.000000   4918.000000"
      ]
     },
     "execution_count": 13,
     "metadata": {},
     "output_type": "execute_result"
    }
   ],
   "source": [
    "listfeatures = ['age','job','marital','education','default','housing','loan','contact','duration']\n",
    "df[listfeatures].describe()"
   ]
  },
  {
   "cell_type": "code",
   "execution_count": 14,
   "id": "ce6d7a20-b2bd-4c44-bafd-a376124eb808",
   "metadata": {},
   "outputs": [
    {
     "name": "stdout",
     "output_type": "stream",
     "text": [
      "32    2085\n",
      "31    1996\n",
      "33    1972\n",
      "34    1930\n",
      "35    1894\n",
      "      ... \n",
      "88       2\n",
      "92       2\n",
      "93       2\n",
      "95       2\n",
      "94       1\n",
      "Name: age, Length: 77, dtype: int64 \n",
      "\n",
      "blue-collar      9732\n",
      "management       9458\n",
      "technician       7597\n",
      "admin.           5171\n",
      "services         4154\n",
      "retired          2264\n",
      "self-employed    1579\n",
      "entrepreneur     1487\n",
      "unemployed       1303\n",
      "housemaid        1240\n",
      "student           938\n",
      "unknown           288\n",
      "Name: job, dtype: int64 \n",
      "\n",
      "married     27214\n",
      "single      12790\n",
      "divorced     5207\n",
      "Name: marital, dtype: int64 \n",
      "\n",
      "secondary    23202\n",
      "tertiary     13301\n",
      "primary       6851\n",
      "unknown       1857\n",
      "Name: education, dtype: int64 \n",
      "\n",
      "no     44396\n",
      "yes      815\n",
      "Name: default, dtype: int64 \n",
      "\n",
      "yes    25130\n",
      "no     20081\n",
      "Name: housing, dtype: int64 \n",
      "\n",
      "no     37967\n",
      "yes     7244\n",
      "Name: loan, dtype: int64 \n",
      "\n",
      "cellular     29285\n",
      "unknown      13020\n",
      "telephone     2906\n",
      "Name: contact, dtype: int64 \n",
      "\n",
      "124     188\n",
      "90      184\n",
      "89      177\n",
      "114     175\n",
      "122     175\n",
      "       ... \n",
      "972       1\n",
      "1132      1\n",
      "2456      1\n",
      "1420      1\n",
      "2015      1\n",
      "Name: duration, Length: 1573, dtype: int64 \n",
      "\n"
     ]
    }
   ],
   "source": [
    "for i in listfeatures:\n",
    "    print(df[i].value_counts(),'\\n')"
   ]
  },
  {
   "cell_type": "code",
   "execution_count": 19,
   "id": "06a938cf-a80e-48ec-ae81-ae37f05928e8",
   "metadata": {
    "tags": []
   },
   "outputs": [
    {
     "name": "stdout",
     "output_type": "stream",
     "text": [
      "total data setelah :  44396\n"
     ]
    }
   ],
   "source": [
    "print('total data setelah : ', len(df[(df['education']!='illiterate')& (df['marital']!='unknown') & (df['default']!='yes')][listfeatures]))"
   ]
  },
  {
   "cell_type": "code",
   "execution_count": 17,
   "id": "5907534b-7e67-4874-9379-9bb47d3f7b0d",
   "metadata": {},
   "outputs": [
    {
     "name": "stdout",
     "output_type": "stream",
     "text": [
      "Empty DataFrame\n",
      "Columns: []\n",
      "Index: [percent missing, amount missing]\n"
     ]
    }
   ],
   "source": [
    "missing = df.isnull().sum()/len(df)*100\n",
    "\n",
    "print(pd.DataFrame([missing[missing>0],pd.Series(df.isnull().sum()[df.isnull().sum()>1000])], index=['percent missing','amount missing']))"
   ]
  },
  {
   "cell_type": "code",
   "execution_count": 61,
   "id": "ff72988f-1855-4c40-ade5-d871f43249ad",
   "metadata": {},
   "outputs": [
    {
     "data": {
      "text/html": [
       "<div>\n",
       "<style scoped>\n",
       "    .dataframe tbody tr th:only-of-type {\n",
       "        vertical-align: middle;\n",
       "    }\n",
       "\n",
       "    .dataframe tbody tr th {\n",
       "        vertical-align: top;\n",
       "    }\n",
       "\n",
       "    .dataframe thead th {\n",
       "        text-align: right;\n",
       "    }\n",
       "</style>\n",
       "<table border=\"1\" class=\"dataframe\">\n",
       "  <thead>\n",
       "    <tr style=\"text-align: right;\">\n",
       "      <th></th>\n",
       "      <th>age</th>\n",
       "      <th>job</th>\n",
       "      <th>marital</th>\n",
       "      <th>education</th>\n",
       "      <th>default</th>\n",
       "      <th>balance</th>\n",
       "      <th>housing</th>\n",
       "      <th>loan</th>\n",
       "      <th>contact</th>\n",
       "      <th>day</th>\n",
       "      <th>month</th>\n",
       "      <th>duration</th>\n",
       "      <th>campaign</th>\n",
       "      <th>pdays</th>\n",
       "      <th>previous</th>\n",
       "      <th>poutcome</th>\n",
       "      <th>y</th>\n",
       "      <th>y_konversi</th>\n",
       "      <th>data_job_konversi</th>\n",
       "      <th>data_marital_konversi</th>\n",
       "      <th>data_education_konversi</th>\n",
       "      <th>data_default_konversi</th>\n",
       "      <th>data_housing_konversi</th>\n",
       "      <th>data_loan_konversi</th>\n",
       "      <th>data_contact_konversi</th>\n",
       "    </tr>\n",
       "  </thead>\n",
       "  <tbody>\n",
       "    <tr>\n",
       "      <th>0</th>\n",
       "      <td>58</td>\n",
       "      <td>management</td>\n",
       "      <td>married</td>\n",
       "      <td>tertiary</td>\n",
       "      <td>no</td>\n",
       "      <td>2143</td>\n",
       "      <td>yes</td>\n",
       "      <td>no</td>\n",
       "      <td>unknown</td>\n",
       "      <td>5</td>\n",
       "      <td>may</td>\n",
       "      <td>261</td>\n",
       "      <td>1</td>\n",
       "      <td>-1</td>\n",
       "      <td>0</td>\n",
       "      <td>unknown</td>\n",
       "      <td>no</td>\n",
       "      <td>0</td>\n",
       "      <td>4</td>\n",
       "      <td>1</td>\n",
       "      <td>2</td>\n",
       "      <td>0</td>\n",
       "      <td>1</td>\n",
       "      <td>0</td>\n",
       "      <td>2</td>\n",
       "    </tr>\n",
       "    <tr>\n",
       "      <th>1</th>\n",
       "      <td>44</td>\n",
       "      <td>technician</td>\n",
       "      <td>single</td>\n",
       "      <td>secondary</td>\n",
       "      <td>no</td>\n",
       "      <td>29</td>\n",
       "      <td>yes</td>\n",
       "      <td>no</td>\n",
       "      <td>unknown</td>\n",
       "      <td>5</td>\n",
       "      <td>may</td>\n",
       "      <td>151</td>\n",
       "      <td>1</td>\n",
       "      <td>-1</td>\n",
       "      <td>0</td>\n",
       "      <td>unknown</td>\n",
       "      <td>no</td>\n",
       "      <td>0</td>\n",
       "      <td>9</td>\n",
       "      <td>2</td>\n",
       "      <td>1</td>\n",
       "      <td>0</td>\n",
       "      <td>1</td>\n",
       "      <td>0</td>\n",
       "      <td>2</td>\n",
       "    </tr>\n",
       "    <tr>\n",
       "      <th>2</th>\n",
       "      <td>33</td>\n",
       "      <td>entrepreneur</td>\n",
       "      <td>married</td>\n",
       "      <td>secondary</td>\n",
       "      <td>no</td>\n",
       "      <td>2</td>\n",
       "      <td>yes</td>\n",
       "      <td>yes</td>\n",
       "      <td>unknown</td>\n",
       "      <td>5</td>\n",
       "      <td>may</td>\n",
       "      <td>76</td>\n",
       "      <td>1</td>\n",
       "      <td>-1</td>\n",
       "      <td>0</td>\n",
       "      <td>unknown</td>\n",
       "      <td>no</td>\n",
       "      <td>0</td>\n",
       "      <td>2</td>\n",
       "      <td>1</td>\n",
       "      <td>1</td>\n",
       "      <td>0</td>\n",
       "      <td>1</td>\n",
       "      <td>1</td>\n",
       "      <td>2</td>\n",
       "    </tr>\n",
       "    <tr>\n",
       "      <th>3</th>\n",
       "      <td>47</td>\n",
       "      <td>blue-collar</td>\n",
       "      <td>married</td>\n",
       "      <td>unknown</td>\n",
       "      <td>no</td>\n",
       "      <td>1506</td>\n",
       "      <td>yes</td>\n",
       "      <td>no</td>\n",
       "      <td>unknown</td>\n",
       "      <td>5</td>\n",
       "      <td>may</td>\n",
       "      <td>92</td>\n",
       "      <td>1</td>\n",
       "      <td>-1</td>\n",
       "      <td>0</td>\n",
       "      <td>unknown</td>\n",
       "      <td>no</td>\n",
       "      <td>0</td>\n",
       "      <td>1</td>\n",
       "      <td>1</td>\n",
       "      <td>3</td>\n",
       "      <td>0</td>\n",
       "      <td>1</td>\n",
       "      <td>0</td>\n",
       "      <td>2</td>\n",
       "    </tr>\n",
       "    <tr>\n",
       "      <th>4</th>\n",
       "      <td>33</td>\n",
       "      <td>unknown</td>\n",
       "      <td>single</td>\n",
       "      <td>unknown</td>\n",
       "      <td>no</td>\n",
       "      <td>1</td>\n",
       "      <td>no</td>\n",
       "      <td>no</td>\n",
       "      <td>unknown</td>\n",
       "      <td>5</td>\n",
       "      <td>may</td>\n",
       "      <td>198</td>\n",
       "      <td>1</td>\n",
       "      <td>-1</td>\n",
       "      <td>0</td>\n",
       "      <td>unknown</td>\n",
       "      <td>no</td>\n",
       "      <td>0</td>\n",
       "      <td>11</td>\n",
       "      <td>2</td>\n",
       "      <td>3</td>\n",
       "      <td>0</td>\n",
       "      <td>0</td>\n",
       "      <td>0</td>\n",
       "      <td>2</td>\n",
       "    </tr>\n",
       "    <tr>\n",
       "      <th>...</th>\n",
       "      <td>...</td>\n",
       "      <td>...</td>\n",
       "      <td>...</td>\n",
       "      <td>...</td>\n",
       "      <td>...</td>\n",
       "      <td>...</td>\n",
       "      <td>...</td>\n",
       "      <td>...</td>\n",
       "      <td>...</td>\n",
       "      <td>...</td>\n",
       "      <td>...</td>\n",
       "      <td>...</td>\n",
       "      <td>...</td>\n",
       "      <td>...</td>\n",
       "      <td>...</td>\n",
       "      <td>...</td>\n",
       "      <td>...</td>\n",
       "      <td>...</td>\n",
       "      <td>...</td>\n",
       "      <td>...</td>\n",
       "      <td>...</td>\n",
       "      <td>...</td>\n",
       "      <td>...</td>\n",
       "      <td>...</td>\n",
       "      <td>...</td>\n",
       "    </tr>\n",
       "    <tr>\n",
       "      <th>45206</th>\n",
       "      <td>51</td>\n",
       "      <td>technician</td>\n",
       "      <td>married</td>\n",
       "      <td>tertiary</td>\n",
       "      <td>no</td>\n",
       "      <td>825</td>\n",
       "      <td>no</td>\n",
       "      <td>no</td>\n",
       "      <td>cellular</td>\n",
       "      <td>17</td>\n",
       "      <td>nov</td>\n",
       "      <td>977</td>\n",
       "      <td>3</td>\n",
       "      <td>-1</td>\n",
       "      <td>0</td>\n",
       "      <td>unknown</td>\n",
       "      <td>yes</td>\n",
       "      <td>1</td>\n",
       "      <td>9</td>\n",
       "      <td>1</td>\n",
       "      <td>2</td>\n",
       "      <td>0</td>\n",
       "      <td>0</td>\n",
       "      <td>0</td>\n",
       "      <td>0</td>\n",
       "    </tr>\n",
       "    <tr>\n",
       "      <th>45207</th>\n",
       "      <td>71</td>\n",
       "      <td>retired</td>\n",
       "      <td>divorced</td>\n",
       "      <td>primary</td>\n",
       "      <td>no</td>\n",
       "      <td>1729</td>\n",
       "      <td>no</td>\n",
       "      <td>no</td>\n",
       "      <td>cellular</td>\n",
       "      <td>17</td>\n",
       "      <td>nov</td>\n",
       "      <td>456</td>\n",
       "      <td>2</td>\n",
       "      <td>-1</td>\n",
       "      <td>0</td>\n",
       "      <td>unknown</td>\n",
       "      <td>yes</td>\n",
       "      <td>1</td>\n",
       "      <td>5</td>\n",
       "      <td>0</td>\n",
       "      <td>0</td>\n",
       "      <td>0</td>\n",
       "      <td>0</td>\n",
       "      <td>0</td>\n",
       "      <td>0</td>\n",
       "    </tr>\n",
       "    <tr>\n",
       "      <th>45208</th>\n",
       "      <td>72</td>\n",
       "      <td>retired</td>\n",
       "      <td>married</td>\n",
       "      <td>secondary</td>\n",
       "      <td>no</td>\n",
       "      <td>5715</td>\n",
       "      <td>no</td>\n",
       "      <td>no</td>\n",
       "      <td>cellular</td>\n",
       "      <td>17</td>\n",
       "      <td>nov</td>\n",
       "      <td>1127</td>\n",
       "      <td>5</td>\n",
       "      <td>184</td>\n",
       "      <td>3</td>\n",
       "      <td>success</td>\n",
       "      <td>yes</td>\n",
       "      <td>1</td>\n",
       "      <td>5</td>\n",
       "      <td>1</td>\n",
       "      <td>1</td>\n",
       "      <td>0</td>\n",
       "      <td>0</td>\n",
       "      <td>0</td>\n",
       "      <td>0</td>\n",
       "    </tr>\n",
       "    <tr>\n",
       "      <th>45209</th>\n",
       "      <td>57</td>\n",
       "      <td>blue-collar</td>\n",
       "      <td>married</td>\n",
       "      <td>secondary</td>\n",
       "      <td>no</td>\n",
       "      <td>668</td>\n",
       "      <td>no</td>\n",
       "      <td>no</td>\n",
       "      <td>telephone</td>\n",
       "      <td>17</td>\n",
       "      <td>nov</td>\n",
       "      <td>508</td>\n",
       "      <td>4</td>\n",
       "      <td>-1</td>\n",
       "      <td>0</td>\n",
       "      <td>unknown</td>\n",
       "      <td>no</td>\n",
       "      <td>0</td>\n",
       "      <td>1</td>\n",
       "      <td>1</td>\n",
       "      <td>1</td>\n",
       "      <td>0</td>\n",
       "      <td>0</td>\n",
       "      <td>0</td>\n",
       "      <td>1</td>\n",
       "    </tr>\n",
       "    <tr>\n",
       "      <th>45210</th>\n",
       "      <td>37</td>\n",
       "      <td>entrepreneur</td>\n",
       "      <td>married</td>\n",
       "      <td>secondary</td>\n",
       "      <td>no</td>\n",
       "      <td>2971</td>\n",
       "      <td>no</td>\n",
       "      <td>no</td>\n",
       "      <td>cellular</td>\n",
       "      <td>17</td>\n",
       "      <td>nov</td>\n",
       "      <td>361</td>\n",
       "      <td>2</td>\n",
       "      <td>188</td>\n",
       "      <td>11</td>\n",
       "      <td>other</td>\n",
       "      <td>no</td>\n",
       "      <td>0</td>\n",
       "      <td>2</td>\n",
       "      <td>1</td>\n",
       "      <td>1</td>\n",
       "      <td>0</td>\n",
       "      <td>0</td>\n",
       "      <td>0</td>\n",
       "      <td>0</td>\n",
       "    </tr>\n",
       "  </tbody>\n",
       "</table>\n",
       "<p>45211 rows × 25 columns</p>\n",
       "</div>"
      ],
      "text/plain": [
       "       age           job   marital  education default  balance housing loan  \\\n",
       "0       58    management   married   tertiary      no     2143     yes   no   \n",
       "1       44    technician    single  secondary      no       29     yes   no   \n",
       "2       33  entrepreneur   married  secondary      no        2     yes  yes   \n",
       "3       47   blue-collar   married    unknown      no     1506     yes   no   \n",
       "4       33       unknown    single    unknown      no        1      no   no   \n",
       "...    ...           ...       ...        ...     ...      ...     ...  ...   \n",
       "45206   51    technician   married   tertiary      no      825      no   no   \n",
       "45207   71       retired  divorced    primary      no     1729      no   no   \n",
       "45208   72       retired   married  secondary      no     5715      no   no   \n",
       "45209   57   blue-collar   married  secondary      no      668      no   no   \n",
       "45210   37  entrepreneur   married  secondary      no     2971      no   no   \n",
       "\n",
       "         contact  day month  duration  campaign  pdays  previous poutcome  \\\n",
       "0        unknown    5   may       261         1     -1         0  unknown   \n",
       "1        unknown    5   may       151         1     -1         0  unknown   \n",
       "2        unknown    5   may        76         1     -1         0  unknown   \n",
       "3        unknown    5   may        92         1     -1         0  unknown   \n",
       "4        unknown    5   may       198         1     -1         0  unknown   \n",
       "...          ...  ...   ...       ...       ...    ...       ...      ...   \n",
       "45206   cellular   17   nov       977         3     -1         0  unknown   \n",
       "45207   cellular   17   nov       456         2     -1         0  unknown   \n",
       "45208   cellular   17   nov      1127         5    184         3  success   \n",
       "45209  telephone   17   nov       508         4     -1         0  unknown   \n",
       "45210   cellular   17   nov       361         2    188        11    other   \n",
       "\n",
       "         y  y_konversi  data_job_konversi  data_marital_konversi  \\\n",
       "0       no           0                  4                      1   \n",
       "1       no           0                  9                      2   \n",
       "2       no           0                  2                      1   \n",
       "3       no           0                  1                      1   \n",
       "4       no           0                 11                      2   \n",
       "...    ...         ...                ...                    ...   \n",
       "45206  yes           1                  9                      1   \n",
       "45207  yes           1                  5                      0   \n",
       "45208  yes           1                  5                      1   \n",
       "45209   no           0                  1                      1   \n",
       "45210   no           0                  2                      1   \n",
       "\n",
       "       data_education_konversi  data_default_konversi  data_housing_konversi  \\\n",
       "0                            2                      0                      1   \n",
       "1                            1                      0                      1   \n",
       "2                            1                      0                      1   \n",
       "3                            3                      0                      1   \n",
       "4                            3                      0                      0   \n",
       "...                        ...                    ...                    ...   \n",
       "45206                        2                      0                      0   \n",
       "45207                        0                      0                      0   \n",
       "45208                        1                      0                      0   \n",
       "45209                        1                      0                      0   \n",
       "45210                        1                      0                      0   \n",
       "\n",
       "       data_loan_konversi  data_contact_konversi  \n",
       "0                       0                      2  \n",
       "1                       0                      2  \n",
       "2                       1                      2  \n",
       "3                       0                      2  \n",
       "4                       0                      2  \n",
       "...                   ...                    ...  \n",
       "45206                   0                      0  \n",
       "45207                   0                      0  \n",
       "45208                   0                      0  \n",
       "45209                   0                      1  \n",
       "45210                   0                      0  \n",
       "\n",
       "[45211 rows x 25 columns]"
      ]
     },
     "execution_count": 61,
     "metadata": {},
     "output_type": "execute_result"
    }
   ],
   "source": [
    "#kondisi data setelah missing value dihilangkan\n",
    "df"
   ]
  },
  {
   "cell_type": "code",
   "execution_count": 20,
   "id": "96b491de-8bbb-4e9a-b8a8-914f5f10bad2",
   "metadata": {},
   "outputs": [
    {
     "name": "stdout",
     "output_type": "stream",
     "text": [
      "data y sebelum konversi:  ['no' 'no' 'no' ... 'yes' 'no' 'no']\n",
      "data y setelah konversi:  [0 0 0 ... 1 0 0]\n",
      "class before transform:  ['no' 'yes']\n"
     ]
    }
   ],
   "source": [
    "#konversi data menjadi numeric\n",
    "from sklearn.preprocessing import LabelEncoder\n",
    "y = df['y'].values\n",
    "print('data y sebelum konversi: ',y)\n",
    "label_y_encoder = LabelEncoder().fit(y)\n",
    "y_konversi = label_y_encoder.transform(y)\n",
    "print('data y setelah konversi: ',y_konversi)\n",
    "print('class before transform: ',label_y_encoder.classes_)"
   ]
  },
  {
   "cell_type": "code",
   "execution_count": 21,
   "id": "6ad6bb98-1686-4be4-8923-3bb0765f5d76",
   "metadata": {},
   "outputs": [
    {
     "name": "stdout",
     "output_type": "stream",
     "text": [
      "data job 1 sebelum konversi:  ['management' 'technician' 'entrepreneur' ... 'retired' 'blue-collar'\n",
      " 'entrepreneur']\n",
      "data feature job setelah konversi:  [4 9 2 ... 5 1 2]\n",
      "data marital 1 sebelum konversi:  ['married' 'single' 'married' ... 'married' 'married' 'married']\n",
      "data feature marital setelah konversi:  [1 2 1 ... 1 1 1]\n",
      "data education 1 sebelum konversi:  ['tertiary' 'secondary' 'secondary' ... 'secondary' 'secondary'\n",
      " 'secondary']\n",
      "data feature education setelah konversi:  [2 1 1 ... 1 1 1]\n",
      "data default 1 sebelum konversi:  ['no' 'no' 'no' ... 'no' 'no' 'no']\n",
      "data feature default setelah konversi:  [0 0 0 ... 0 0 0]\n",
      "data housing 1 sebelum konversi:  ['yes' 'yes' 'yes' ... 'no' 'no' 'no']\n",
      "data feature housing setelah konversi:  [1 1 1 ... 0 0 0]\n",
      "data loan 1 sebelum konversi:  ['no' 'no' 'yes' ... 'no' 'no' 'no']\n",
      "data feature loan setelah konversi:  [0 0 1 ... 0 0 0]\n",
      "data contact 1 sebelum konversi:  ['unknown' 'unknown' 'unknown' ... 'cellular' 'telephone' 'cellular']\n",
      "data feature contact setelah konversi:  [2 2 2 ... 0 1 0]\n"
     ]
    }
   ],
   "source": [
    "data_job = df['job'].values\n",
    "print('data job 1 sebelum konversi: ',data_job)\n",
    "label_datajob_encoder = LabelEncoder().fit(data_job)\n",
    "data_job_konversi = label_datajob_encoder.transform(data_job)\n",
    "print('data feature job setelah konversi: ',data_job_konversi)\n",
    "\n",
    "data_marital = df['marital'].values\n",
    "print('data marital 1 sebelum konversi: ',data_marital)\n",
    "label_datamarital_encoder = LabelEncoder().fit(data_marital)\n",
    "data_marital_konversi = label_datamarital_encoder.transform(data_marital)\n",
    "print('data feature marital setelah konversi: ',data_marital_konversi)\n",
    "\n",
    "data_education = df['education'].values\n",
    "print('data education 1 sebelum konversi: ',data_education)\n",
    "label_dataeducation_encoder = LabelEncoder().fit(data_education)\n",
    "data_education_konversi = label_dataeducation_encoder.transform(data_education)\n",
    "print('data feature education setelah konversi: ',data_education_konversi)\n",
    "\n",
    "data_default = df['default'].values\n",
    "print('data default 1 sebelum konversi: ',data_default)\n",
    "label_datadefault_encoder = LabelEncoder().fit(data_default)\n",
    "data_default_konversi = label_datadefault_encoder.transform(data_default)\n",
    "print('data feature default setelah konversi: ',data_default_konversi)\n",
    "\n",
    "data_housing = df['housing'].values\n",
    "print('data housing 1 sebelum konversi: ',data_housing)\n",
    "label_datahousing_encoder = LabelEncoder().fit(data_housing)\n",
    "data_housing_konversi = label_datahousing_encoder.transform(data_housing)\n",
    "print('data feature housing setelah konversi: ',data_housing_konversi)\n",
    "\n",
    "data_loan = df['loan'].values\n",
    "print('data loan 1 sebelum konversi: ',data_loan)\n",
    "label_dataloan_encoder = LabelEncoder().fit(data_loan)\n",
    "data_loan_konversi = label_dataloan_encoder.transform(data_loan)\n",
    "print('data feature loan setelah konversi: ',data_loan_konversi)\n",
    "\n",
    "data_contact = df['contact'].values\n",
    "print('data contact 1 sebelum konversi: ',data_contact)\n",
    "label_datacontact_encoder = LabelEncoder().fit(data_contact)\n",
    "data_contact_konversi = label_datacontact_encoder.transform(data_contact)\n",
    "print('data feature contact setelah konversi: ',data_contact_konversi)"
   ]
  },
  {
   "cell_type": "code",
   "execution_count": 22,
   "id": "de2008e7-70d7-48f1-944d-8ab17f3c20d8",
   "metadata": {},
   "outputs": [
    {
     "data": {
      "text/html": [
       "<div>\n",
       "<style scoped>\n",
       "    .dataframe tbody tr th:only-of-type {\n",
       "        vertical-align: middle;\n",
       "    }\n",
       "\n",
       "    .dataframe tbody tr th {\n",
       "        vertical-align: top;\n",
       "    }\n",
       "\n",
       "    .dataframe thead th {\n",
       "        text-align: right;\n",
       "    }\n",
       "</style>\n",
       "<table border=\"1\" class=\"dataframe\">\n",
       "  <thead>\n",
       "    <tr style=\"text-align: right;\">\n",
       "      <th></th>\n",
       "      <th>age</th>\n",
       "      <th>job</th>\n",
       "      <th>marital</th>\n",
       "      <th>education</th>\n",
       "      <th>default</th>\n",
       "      <th>balance</th>\n",
       "      <th>housing</th>\n",
       "      <th>loan</th>\n",
       "      <th>contact</th>\n",
       "      <th>day</th>\n",
       "      <th>month</th>\n",
       "      <th>duration</th>\n",
       "      <th>campaign</th>\n",
       "      <th>pdays</th>\n",
       "      <th>previous</th>\n",
       "      <th>poutcome</th>\n",
       "      <th>y</th>\n",
       "      <th>y_konversi</th>\n",
       "      <th>data_job_konversi</th>\n",
       "      <th>data_marital_konversi</th>\n",
       "      <th>data_education_konversi</th>\n",
       "      <th>data_default_konversi</th>\n",
       "      <th>data_housing_konversi</th>\n",
       "      <th>data_loan_konversi</th>\n",
       "      <th>data_contact_konversi</th>\n",
       "    </tr>\n",
       "  </thead>\n",
       "  <tbody>\n",
       "    <tr>\n",
       "      <th>0</th>\n",
       "      <td>58</td>\n",
       "      <td>management</td>\n",
       "      <td>married</td>\n",
       "      <td>tertiary</td>\n",
       "      <td>no</td>\n",
       "      <td>2143</td>\n",
       "      <td>yes</td>\n",
       "      <td>no</td>\n",
       "      <td>unknown</td>\n",
       "      <td>5</td>\n",
       "      <td>may</td>\n",
       "      <td>261</td>\n",
       "      <td>1</td>\n",
       "      <td>-1</td>\n",
       "      <td>0</td>\n",
       "      <td>unknown</td>\n",
       "      <td>no</td>\n",
       "      <td>0</td>\n",
       "      <td>4</td>\n",
       "      <td>1</td>\n",
       "      <td>2</td>\n",
       "      <td>0</td>\n",
       "      <td>1</td>\n",
       "      <td>0</td>\n",
       "      <td>2</td>\n",
       "    </tr>\n",
       "    <tr>\n",
       "      <th>1</th>\n",
       "      <td>44</td>\n",
       "      <td>technician</td>\n",
       "      <td>single</td>\n",
       "      <td>secondary</td>\n",
       "      <td>no</td>\n",
       "      <td>29</td>\n",
       "      <td>yes</td>\n",
       "      <td>no</td>\n",
       "      <td>unknown</td>\n",
       "      <td>5</td>\n",
       "      <td>may</td>\n",
       "      <td>151</td>\n",
       "      <td>1</td>\n",
       "      <td>-1</td>\n",
       "      <td>0</td>\n",
       "      <td>unknown</td>\n",
       "      <td>no</td>\n",
       "      <td>0</td>\n",
       "      <td>9</td>\n",
       "      <td>2</td>\n",
       "      <td>1</td>\n",
       "      <td>0</td>\n",
       "      <td>1</td>\n",
       "      <td>0</td>\n",
       "      <td>2</td>\n",
       "    </tr>\n",
       "    <tr>\n",
       "      <th>2</th>\n",
       "      <td>33</td>\n",
       "      <td>entrepreneur</td>\n",
       "      <td>married</td>\n",
       "      <td>secondary</td>\n",
       "      <td>no</td>\n",
       "      <td>2</td>\n",
       "      <td>yes</td>\n",
       "      <td>yes</td>\n",
       "      <td>unknown</td>\n",
       "      <td>5</td>\n",
       "      <td>may</td>\n",
       "      <td>76</td>\n",
       "      <td>1</td>\n",
       "      <td>-1</td>\n",
       "      <td>0</td>\n",
       "      <td>unknown</td>\n",
       "      <td>no</td>\n",
       "      <td>0</td>\n",
       "      <td>2</td>\n",
       "      <td>1</td>\n",
       "      <td>1</td>\n",
       "      <td>0</td>\n",
       "      <td>1</td>\n",
       "      <td>1</td>\n",
       "      <td>2</td>\n",
       "    </tr>\n",
       "    <tr>\n",
       "      <th>3</th>\n",
       "      <td>47</td>\n",
       "      <td>blue-collar</td>\n",
       "      <td>married</td>\n",
       "      <td>unknown</td>\n",
       "      <td>no</td>\n",
       "      <td>1506</td>\n",
       "      <td>yes</td>\n",
       "      <td>no</td>\n",
       "      <td>unknown</td>\n",
       "      <td>5</td>\n",
       "      <td>may</td>\n",
       "      <td>92</td>\n",
       "      <td>1</td>\n",
       "      <td>-1</td>\n",
       "      <td>0</td>\n",
       "      <td>unknown</td>\n",
       "      <td>no</td>\n",
       "      <td>0</td>\n",
       "      <td>1</td>\n",
       "      <td>1</td>\n",
       "      <td>3</td>\n",
       "      <td>0</td>\n",
       "      <td>1</td>\n",
       "      <td>0</td>\n",
       "      <td>2</td>\n",
       "    </tr>\n",
       "    <tr>\n",
       "      <th>4</th>\n",
       "      <td>33</td>\n",
       "      <td>unknown</td>\n",
       "      <td>single</td>\n",
       "      <td>unknown</td>\n",
       "      <td>no</td>\n",
       "      <td>1</td>\n",
       "      <td>no</td>\n",
       "      <td>no</td>\n",
       "      <td>unknown</td>\n",
       "      <td>5</td>\n",
       "      <td>may</td>\n",
       "      <td>198</td>\n",
       "      <td>1</td>\n",
       "      <td>-1</td>\n",
       "      <td>0</td>\n",
       "      <td>unknown</td>\n",
       "      <td>no</td>\n",
       "      <td>0</td>\n",
       "      <td>11</td>\n",
       "      <td>2</td>\n",
       "      <td>3</td>\n",
       "      <td>0</td>\n",
       "      <td>0</td>\n",
       "      <td>0</td>\n",
       "      <td>2</td>\n",
       "    </tr>\n",
       "  </tbody>\n",
       "</table>\n",
       "</div>"
      ],
      "text/plain": [
       "   age           job  marital  education default  balance housing loan  \\\n",
       "0   58    management  married   tertiary      no     2143     yes   no   \n",
       "1   44    technician   single  secondary      no       29     yes   no   \n",
       "2   33  entrepreneur  married  secondary      no        2     yes  yes   \n",
       "3   47   blue-collar  married    unknown      no     1506     yes   no   \n",
       "4   33       unknown   single    unknown      no        1      no   no   \n",
       "\n",
       "   contact  day month  duration  campaign  pdays  previous poutcome   y  \\\n",
       "0  unknown    5   may       261         1     -1         0  unknown  no   \n",
       "1  unknown    5   may       151         1     -1         0  unknown  no   \n",
       "2  unknown    5   may        76         1     -1         0  unknown  no   \n",
       "3  unknown    5   may        92         1     -1         0  unknown  no   \n",
       "4  unknown    5   may       198         1     -1         0  unknown  no   \n",
       "\n",
       "   y_konversi  data_job_konversi  data_marital_konversi  \\\n",
       "0           0                  4                      1   \n",
       "1           0                  9                      2   \n",
       "2           0                  2                      1   \n",
       "3           0                  1                      1   \n",
       "4           0                 11                      2   \n",
       "\n",
       "   data_education_konversi  data_default_konversi  data_housing_konversi  \\\n",
       "0                        2                      0                      1   \n",
       "1                        1                      0                      1   \n",
       "2                        1                      0                      1   \n",
       "3                        3                      0                      1   \n",
       "4                        3                      0                      0   \n",
       "\n",
       "   data_loan_konversi  data_contact_konversi  \n",
       "0                   0                      2  \n",
       "1                   0                      2  \n",
       "2                   1                      2  \n",
       "3                   0                      2  \n",
       "4                   0                      2  "
      ]
     },
     "execution_count": 22,
     "metadata": {},
     "output_type": "execute_result"
    }
   ],
   "source": [
    "df['y_konversi'] = y_konversi\n",
    "df['data_job_konversi'] = data_job_konversi\n",
    "df['data_marital_konversi'] = data_marital_konversi\n",
    "df['data_education_konversi'] = data_education_konversi\n",
    "df['data_default_konversi'] = data_default_konversi\n",
    "df['data_housing_konversi'] = data_housing_konversi\n",
    "df['data_loan_konversi'] = data_loan_konversi\n",
    "df['data_contact_konversi'] = data_contact_konversi\n",
    "df.head()"
   ]
  },
  {
   "cell_type": "code",
   "execution_count": 23,
   "id": "cbfa322a-df8b-4945-8ccd-1fccfaca519a",
   "metadata": {},
   "outputs": [
    {
     "data": {
      "image/png": "[encoded data removed]",
      "text/plain": [
       "<Figure size 720x360 with 1 Axes>"
      ]
     },
     "metadata": {
      "needs_background": "light"
     },
     "output_type": "display_data"
    }
   ],
   "source": [
    "df_job_target = df[['y_konversi','data_job_konversi']]\n",
    "df_job_target.plot(kind='scatter', x='data_job_konversi', y='y_konversi', figsize=(10,5))\n",
    "plt.show()"
   ]
  },
  {
   "cell_type": "code",
   "execution_count": 24,
   "id": "1b848bca-d750-4d6a-b6a9-13ca9c1a1e3c",
   "metadata": {},
   "outputs": [
    {
     "data": {
      "text/plain": [
       "y_konversi\n",
       "0    39922\n",
       "1     5289\n",
       "Name: data_job_konversi, dtype: int64"
      ]
     },
     "execution_count": 24,
     "metadata": {},
     "output_type": "execute_result"
    }
   ],
   "source": [
    "df.groupby(by=['y_konversi'])['data_job_konversi'].count()"
   ]
  },
  {
   "cell_type": "code",
   "execution_count": 25,
   "id": "86f83e97-6571-43b4-974f-40d633771fd4",
   "metadata": {},
   "outputs": [
    {
     "data": {
      "text/plain": [
       "y_konversi  data_job_konversi\n",
       "0           0                    4540\n",
       "            1                    9024\n",
       "            2                    1364\n",
       "            3                    1131\n",
       "            4                    8157\n",
       "            5                    1748\n",
       "            6                    1392\n",
       "            7                    3785\n",
       "            8                     669\n",
       "            9                    6757\n",
       "            10                   1101\n",
       "            11                    254\n",
       "1           0                     631\n",
       "            1                     708\n",
       "            2                     123\n",
       "            3                     109\n",
       "            4                    1301\n",
       "            5                     516\n",
       "            6                     187\n",
       "            7                     369\n",
       "            8                     269\n",
       "            9                     840\n",
       "            10                    202\n",
       "            11                     34\n",
       "Name: data_job_konversi, dtype: int64"
      ]
     },
     "execution_count": 25,
     "metadata": {},
     "output_type": "execute_result"
    }
   ],
   "source": [
    "df.groupby(by=['y_konversi','data_job_konversi'])['data_job_konversi'].count()"
   ]
  },
  {
   "cell_type": "code",
   "execution_count": 26,
   "id": "4487cf02-4f28-4a18-9aef-a649b6398b60",
   "metadata": {},
   "outputs": [
    {
     "data": {
      "text/plain": [
       "job            y  \n",
       "admin.         no     4540\n",
       "               yes     631\n",
       "blue-collar    no     9024\n",
       "               yes     708\n",
       "entrepreneur   no     1364\n",
       "               yes     123\n",
       "housemaid      no     1131\n",
       "               yes     109\n",
       "management     no     8157\n",
       "               yes    1301\n",
       "retired        no     1748\n",
       "               yes     516\n",
       "self-employed  no     1392\n",
       "               yes     187\n",
       "services       no     3785\n",
       "               yes     369\n",
       "student        no      669\n",
       "               yes     269\n",
       "technician     no     6757\n",
       "               yes     840\n",
       "unemployed     no     1101\n",
       "               yes     202\n",
       "unknown        no      254\n",
       "               yes      34\n",
       "Name: job, dtype: int64"
      ]
     },
     "execution_count": 26,
     "metadata": {},
     "output_type": "execute_result"
    }
   ],
   "source": [
    "job_konv_group = df.groupby(by=['job','y'])['job'].count()\n",
    "job_konv_group"
   ]
  },
  {
   "cell_type": "code",
   "execution_count": 27,
   "id": "4571b23e-bcf2-44c6-bd67-2be0437e2aaf",
   "metadata": {},
   "outputs": [
    {
     "data": {
      "image/png": "[encoded data removed]",
      "text/plain": [
       "<Figure size 1008x576 with 1 Axes>"
      ]
     },
     "metadata": {
      "needs_background": "light"
     },
     "output_type": "display_data"
    }
   ],
   "source": [
    "job_konv_group.plot(kind='bar',figsize=(14,8))\n",
    "plt.show()"
   ]
  },
  {
   "cell_type": "code",
   "execution_count": 28,
   "id": "fa5d4a8e-e42e-4e6c-b21f-361b80c68577",
   "metadata": {
    "tags": []
   },
   "outputs": [
    {
     "name": "stdout",
     "output_type": "stream",
     "text": [
      "data feature: [[58  4]\n",
      " [44  9]\n",
      " [33  2]\n",
      " ...\n",
      " [72  5]\n",
      " [57  1]\n",
      " [37  2]]\n",
      "shape data feature: (45211, 2)\n",
      "data y: [0 0 0 ... 1 0 0]\n",
      "shape data y: (45211,)\n"
     ]
    }
   ],
   "source": [
    "##mencari shape data\n",
    "data_feature= df[['age','data_job_konversi']].values\n",
    "print('data feature:',data_feature )\n",
    "print('shape data feature:',data_feature.shape )\n",
    "\n",
    "target_y_konversi = df[['y_konversi']].values.reshape(len(y_konversi))\n",
    "print('data y:',target_y_konversi )\n",
    "print('shape data y:',target_y_konversi.shape )"
   ]
  },
  {
   "cell_type": "code",
   "execution_count": 29,
   "id": "4e128c16-3bfe-4c96-b514-b9eb3896800b",
   "metadata": {},
   "outputs": [
    {
     "name": "stdout",
     "output_type": "stream",
     "text": [
      "data 5feature: [[  58    4    0    0  261]\n",
      " [  44    9    0    0  151]\n",
      " [  33    2    1    0   76]\n",
      " ...\n",
      " [  72    5    0    0 1127]\n",
      " [  57    1    0    0  508]\n",
      " [  37    2    0    0  361]]\n",
      "shape data 5feature: (45211, 5)\n",
      "data y: [0 0 0 ... 1 0 0]\n",
      "shape data y: (45211,)\n"
     ]
    }
   ],
   "source": [
    "##modelling menggunakan 5 feature\n",
    "data_5feature = df[['age','data_job_konversi', 'data_loan_konversi', 'data_default_konversi', 'duration']].values\n",
    "print('data 5feature:',data_5feature )\n",
    "print('shape data 5feature:',data_5feature.shape )\n",
    "##modelling menggunakan 9 feature\n",
    "target_y_konversi_5f = df[['y_konversi']].values.reshape(len(y_konversi))\n",
    "print('data y:',target_y_konversi )\n",
    "print('shape data y:',target_y_konversi.shape )"
   ]
  },
  {
   "cell_type": "code",
   "execution_count": 30,
   "id": "2797e691-bca0-4687-acf7-cf4fc83677a6",
   "metadata": {},
   "outputs": [
    {
     "name": "stdout",
     "output_type": "stream",
     "text": [
      "data 9 feature: [[  58    4    1 ...    0    2  261]\n",
      " [  44    9    2 ...    0    2  151]\n",
      " [  33    2    1 ...    1    2   76]\n",
      " ...\n",
      " [  72    5    1 ...    0    0 1127]\n",
      " [  57    1    1 ...    0    1  508]\n",
      " [  37    2    1 ...    0    0  361]]\n",
      "shape data 9 feature: (45211, 9)\n",
      "data y: [0 0 0 ... 1 0 0]\n",
      "shape data y: (45211,)\n"
     ]
    }
   ],
   "source": [
    "data_9feature = df[['age','data_job_konversi','data_marital_konversi','data_education_konversi','data_default_konversi','data_housing_konversi','data_loan_konversi','data_contact_konversi', 'duration']].values\n",
    "print('data 9 feature:',data_9feature )\n",
    "print('shape data 9 feature:',data_9feature.shape )\n",
    "\n",
    "target_y_konversi_9f = df[['y_konversi']].values.reshape(len(y_konversi))\n",
    "print('data y:',target_y_konversi )\n",
    "print('shape data y:',target_y_konversi.shape )"
   ]
  },
  {
   "cell_type": "code",
   "execution_count": null,
   "id": "86914af5-b479-4aa4-bcda-f5db880f20c9",
   "metadata": {},
   "outputs": [],
   "source": [
    "###KNN"
   ]
  },
  {
   "cell_type": "code",
   "execution_count": 32,
   "id": "3a4efefb-7219-44ac-a161-e36479caa886",
   "metadata": {},
   "outputs": [],
   "source": [
    "model_ykonv_5f = KNeighborsClassifier(n_neighbors=5).fit(data_5feature,target_y_konversi_5f)\n",
    "\n",
    "model_ykonv_9f = KNeighborsClassifier(n_neighbors=5).fit(data_9feature,target_y_konversi_9f)"
   ]
  },
  {
   "cell_type": "code",
   "execution_count": 33,
   "id": "be43c053-0c86-49ec-9219-4418199b6f93",
   "metadata": {},
   "outputs": [
    {
     "name": "stdout",
     "output_type": "stream",
     "text": [
      "[0 0 0 ... 1 0 0]\n",
      "[0 0 0 ... 1 0 0]\n"
     ]
    }
   ],
   "source": [
    "prediksi_ykonv_5f = model_ykonv_5f.predict(data_5feature)\n",
    "print(prediksi_ykonv_5f)\n",
    "\n",
    "\n",
    "prediksi_ykonv_9f = model_ykonv_9f.predict(data_9feature)\n",
    "print(prediksi_ykonv_9f)"
   ]
  },
  {
   "cell_type": "code",
   "execution_count": null,
   "id": "c43d52ad-a019-455b-9786-bd27982ea240",
   "metadata": {},
   "outputs": [],
   "source": [
    "###PERFORMANCE"
   ]
  },
  {
   "cell_type": "code",
   "execution_count": 34,
   "id": "d692b52d-0a10-4e05-86ca-d0e71a808e9e",
   "metadata": {},
   "outputs": [
    {
     "name": "stdout",
     "output_type": "stream",
     "text": [
      "performance model 5 features :  0.906969542810378\n",
      "performance model 9 features :  0.9086947866669616\n"
     ]
    }
   ],
   "source": [
    "performance_model_5f = model_ykonv_5f.score(data_5feature,target_y_konversi_5f)\n",
    "print('performance model 5 features : ',performance_model_5f)\n",
    "\n",
    "performance_model_9f = model_ykonv_9f.score(data_9feature,target_y_konversi_9f)\n",
    "print('performance model 9 features : ',performance_model_9f)"
   ]
  },
  {
   "cell_type": "code",
   "execution_count": 35,
   "id": "605c86a0-770b-4c75-a39a-e9b1a1d1f483",
   "metadata": {},
   "outputs": [
    {
     "data": {
      "image/png": "[encoded data removed]",
      "text/plain": [
       "<Figure size 864x432 with 1 Axes>"
      ]
     },
     "metadata": {
      "needs_background": "light"
     },
     "output_type": "display_data"
    }
   ],
   "source": [
    "error_5f = []\n",
    "neighbors_loop = range(1,50)\n",
    "for x in neighbors_loop:\n",
    "    model_ykonv_5f_loop = KNeighborsClassifier(n_neighbors=x).fit(data_5feature,target_y_konversi_5f)\n",
    "    prediksi_ykonv_5f_loop = model_ykonv_5f_loop.predict(data_5feature)\n",
    "    error_5f.append(np.mean(prediksi_ykonv_5f_loop!=target_y_konversi_5f))\n",
    "plt.figure(figsize=(12,6))\n",
    "plt.plot(neighbors_loop,error_5f, color = 'blue', linestyle = 'dashed', marker='o',markerfacecolor='red', markersize=10)\n",
    "plt.title('Error Rate 5 Feature')\n",
    "plt.xlabel('K')\n",
    "plt.ylabel('Error Mean')\n",
    "plt.show()"
   ]
  },
  {
   "cell_type": "code",
   "execution_count": 36,
   "id": "98af5dd4-daed-42d7-8ce4-337ab184af7d",
   "metadata": {},
   "outputs": [
    {
     "data": {
      "image/png": "[encoded data removed]",
      "text/plain": [
       "<Figure size 864x432 with 1 Axes>"
      ]
     },
     "metadata": {
      "needs_background": "light"
     },
     "output_type": "display_data"
    }
   ],
   "source": [
    "error_9f = []\n",
    "neighbors_loop = range(1,50)\n",
    "for x in neighbors_loop:\n",
    "    model_ykonv_loop_9f = KNeighborsClassifier(n_neighbors=x).fit(data_9feature,target_y_konversi_9f)\n",
    "    prediksi_ykonv_loop_9f = model_ykonv_loop_9f.predict(data_9feature)\n",
    "    error_9f.append(np.mean(prediksi_ykonv_loop_9f!=target_y_konversi_9f))\n",
    "plt.figure(figsize=(12,6))\n",
    "plt.plot(neighbors_loop,error_9f, color = 'blue', linestyle = 'dashed', marker='o',markerfacecolor='red', markersize=10)\n",
    "plt.title('Error Rate 9 Feature')\n",
    "plt.xlabel('K')\n",
    "plt.ylabel('Error Mean')\n",
    "plt.show()"
   ]
  },
  {
   "cell_type": "code",
   "execution_count": 37,
   "id": "9a51f42b-3979-483f-8e73-a2f2947c9e7d",
   "metadata": {},
   "outputs": [
    {
     "name": "stdout",
     "output_type": "stream",
     "text": [
      "shape feature total:  (45211, 5)\n",
      "shape feature train:  (33908, 5)\n",
      "shape feature test:  (11303, 5)\n",
      "shape target test:  (11303,)\n"
     ]
    }
   ],
   "source": [
    "from sklearn.model_selection import train_test_split\n",
    "features_data = df[['age','data_job_konversi', 'data_loan_konversi', 'data_default_konversi', 'duration']].values\n",
    "target_data = df[['y_konversi']].values.reshape(-1,1)\n",
    "\n",
    "x_5f_train,x_5f_test,y_5f_train,y_5f_test = train_test_split(features_data,target_data,test_size=0.25)\n",
    "y_5f_test = y_5f_test.reshape(len(y_5f_test))\n",
    "y_5f_train = y_5f_train.reshape(len(y_5f_train))\n",
    "print('shape feature total: ', features_data.shape)\n",
    "print('shape feature train: ', x_5f_train.shape)\n",
    "print('shape feature test: ', x_5f_test.shape)\n",
    "print('shape target test: ', y_5f_test.shape)"
   ]
  },
  {
   "cell_type": "code",
   "execution_count": 38,
   "id": "e90e256a-c5ab-4849-9244-b2d9d24b6457",
   "metadata": {},
   "outputs": [
    {
     "name": "stdout",
     "output_type": "stream",
     "text": [
      "shape feature total:  (45211, 9)\n",
      "shape feature train:  (33908, 9)\n",
      "shape feature test:  (11303, 9)\n",
      "shape target test:  (11303,)\n"
     ]
    }
   ],
   "source": [
    "features_9f_data = df[['age','data_job_konversi','data_marital_konversi','data_education_konversi','data_default_konversi','data_housing_konversi','data_loan_konversi','data_contact_konversi', 'duration']].values\n",
    "target_9f_data = df[['y_konversi']].values.reshape(-1,1)\n",
    "\n",
    "x_9f_train,x_9f_test,y_9f_train,y_9f_test = train_test_split(features_9f_data,target_9f_data,test_size=0.25)\n",
    "y_9f_test = y_9f_test.reshape(len(y_9f_test))\n",
    "y_9f_train = y_9f_train.reshape(len(y_9f_train))\n",
    "print('shape feature total: ', features_9f_data.shape)\n",
    "print('shape feature train: ', x_9f_train.shape)\n",
    "print('shape feature test: ', x_9f_test.shape)\n",
    "print('shape target test: ', y_9f_test.shape)"
   ]
  },
  {
   "cell_type": "code",
   "execution_count": null,
   "id": "068f567e-352b-4573-b3c4-827b4ff0a28f",
   "metadata": {},
   "outputs": [],
   "source": [
    "###NAIVE BAYES"
   ]
  },
  {
   "cell_type": "code",
   "execution_count": 40,
   "id": "90013d74-7e7d-4910-ab38-d1d72dca6653",
   "metadata": {},
   "outputs": [],
   "source": [
    "model_5f_GNB = GaussianNB().fit(x_5f_train,y_5f_train)\n",
    "model_9f_GNB = GaussianNB().fit(x_9f_train,y_9f_train)"
   ]
  },
  {
   "cell_type": "code",
   "execution_count": 41,
   "id": "0d6d6c8a-9129-4aa1-9ef1-aa620dab7e74",
   "metadata": {},
   "outputs": [
    {
     "name": "stdout",
     "output_type": "stream",
     "text": [
      "[0 0 0 ... 0 0 0]\n",
      "[0 0 0 ... 0 0 0]\n"
     ]
    }
   ],
   "source": [
    "y_5f_train_prediksi_GNB = model_5f_GNB.predict(x_5f_train)\n",
    "print(y_5f_train_prediksi_GNB)\n",
    "\n",
    "\n",
    "y_9f_train_prediksi_GNB = model_9f_GNB.predict(x_9f_train)\n",
    "print(y_9f_train_prediksi_GNB)"
   ]
  },
  {
   "cell_type": "code",
   "execution_count": 42,
   "id": "729103e2-e8d9-4a88-82b2-f5d6da7c1b59",
   "metadata": {},
   "outputs": [
    {
     "name": "stdout",
     "output_type": "stream",
     "text": [
      "performance model 5 features Naive Bayes :  0.8868703550784476\n",
      "performance model 9 features Naive Bayes :  0.8883744249144745\n"
     ]
    }
   ],
   "source": [
    "perf_model_5f_GNB = model_5f_GNB.score(x_5f_train,y_5f_train)\n",
    "print('performance model 5 features Naive Bayes : ',perf_model_5f_GNB)\n",
    "\n",
    "\n",
    "perf_model_9f_GNB = model_9f_GNB.score(x_9f_train,y_9f_train)\n",
    "print('performance model 9 features Naive Bayes : ',perf_model_9f_GNB)"
   ]
  },
  {
   "cell_type": "code",
   "execution_count": 43,
   "id": "00e09623-39be-4099-a7fb-91462d659d0c",
   "metadata": {},
   "outputs": [
    {
     "name": "stdout",
     "output_type": "stream",
     "text": [
      "[[28800  1164]\n",
      " [ 2672  1272]]\n",
      "[[28680  1274]\n",
      " [ 2511  1443]]\n"
     ]
    }
   ],
   "source": [
    "conf_matrix_5f_GNB = confusion_matrix(y_5f_train,y_5f_train_prediksi_GNB)\n",
    "print(conf_matrix_5f_GNB)\n",
    "\n",
    "conf_matrix_9f_GNB = confusion_matrix(y_9f_train,y_9f_train_prediksi_GNB)\n",
    "print(conf_matrix_9f_GNB)"
   ]
  },
  {
   "cell_type": "code",
   "execution_count": 44,
   "id": "9def5db5-a606-4088-919d-6975c29185c9",
   "metadata": {},
   "outputs": [
    {
     "data": {
      "image/png": "[encoded data removed]",
      "text/plain": [
       "<Figure size 576x576 with 1 Axes>"
      ]
     },
     "metadata": {},
     "output_type": "display_data"
    }
   ],
   "source": [
    "mpl.style.use(['ggplot'])\n",
    "fig,ax = plt.subplots(figsize=(8,8))\n",
    "ax.imshow (conf_matrix_5f_GNB)\n",
    "ax.grid(False)\n",
    "for i in range (len(conf_matrix_5f_GNB[0])):\n",
    "    for j in range (len(conf_matrix_5f_GNB[0])):\n",
    "        ax.text(j,i,conf_matrix_5f_GNB[i,j])\n",
    "plt.show()"
   ]
  },
  {
   "cell_type": "code",
   "execution_count": 45,
   "id": "29cad151-912c-4d3e-845d-0f7a0d3aa4a4",
   "metadata": {},
   "outputs": [
    {
     "data": {
      "image/png": "[encoded data removed]",
      "text/plain": [
       "<Figure size 576x576 with 1 Axes>"
      ]
     },
     "metadata": {},
     "output_type": "display_data"
    }
   ],
   "source": [
    "mpl.style.use(['ggplot'])\n",
    "fig,ax = plt.subplots(figsize=(8,8))\n",
    "ax.imshow (conf_matrix_9f_GNB)\n",
    "ax.grid(False)\n",
    "for i in range (len(conf_matrix_9f_GNB[0])):\n",
    "    for j in range (len(conf_matrix_9f_GNB[0])):\n",
    "        ax.text(j,i,conf_matrix_9f_GNB[i,j])\n",
    "plt.show()"
   ]
  },
  {
   "cell_type": "code",
   "execution_count": null,
   "id": "e6d1cbd4-1230-417a-b191-2b021ca59873",
   "metadata": {},
   "outputs": [],
   "source": [
    "###RANDOM FOREST"
   ]
  },
  {
   "cell_type": "code",
   "execution_count": 47,
   "id": "f58d289b-8edc-4575-90c9-8888217c8e32",
   "metadata": {},
   "outputs": [],
   "source": [
    "model_5f_RF = RandomForestClassifier().fit(x_5f_train,y_5f_train)\n",
    "\n",
    "model_9f_RF = RandomForestClassifier().fit(x_9f_train,y_9f_train)"
   ]
  },
  {
   "cell_type": "code",
   "execution_count": 48,
   "id": "33b07076-e2ae-47d4-bb8f-2072a51cbf7b",
   "metadata": {},
   "outputs": [
    {
     "name": "stdout",
     "output_type": "stream",
     "text": [
      "[0 0 0 ... 0 0 0]\n",
      "[0 1 0 ... 0 1 0]\n"
     ]
    }
   ],
   "source": [
    "y_train_prediksi_5f_RF = model_5f_RF.predict(x_5f_train)\n",
    "print(y_train_prediksi_5f_RF)\n",
    "\n",
    "\n",
    "y_train_prediksi_9f_RF = model_9f_RF.predict(x_9f_train)\n",
    "print(y_train_prediksi_9f_RF)"
   ]
  },
  {
   "cell_type": "code",
   "execution_count": 49,
   "id": "e8c8598f-6964-4386-beec-3ee63d20eded",
   "metadata": {},
   "outputs": [
    {
     "name": "stdout",
     "output_type": "stream",
     "text": [
      "performance model RF 5 features :  0.9898254099327592\n",
      "performance model RF 9 features :  0.9983484723369116\n"
     ]
    }
   ],
   "source": [
    "perf_model_5f_RF = model_5f_RF.score(x_5f_train,y_5f_train)\n",
    "print('performance model RF 5 features : ',perf_model_5f_RF)\n",
    "\n",
    "\n",
    "perf_model_9f_RF = model_9f_RF.score(x_9f_train,y_9f_train)\n",
    "print('performance model RF 9 features : ',perf_model_9f_RF)"
   ]
  },
  {
   "cell_type": "code",
   "execution_count": 50,
   "id": "1deda26b-781e-4696-a381-e35fd4295c4f",
   "metadata": {},
   "outputs": [
    {
     "name": "stdout",
     "output_type": "stream",
     "text": [
      "[[29914    50]\n",
      " [  295  3649]]\n",
      "[[29943    11]\n",
      " [   45  3909]]\n"
     ]
    }
   ],
   "source": [
    "conf_matrix_5f_RF = confusion_matrix(y_5f_train,y_train_prediksi_5f_RF)\n",
    "print(conf_matrix_5f_RF)\n",
    "conf_matrix_9f_RF = confusion_matrix(y_9f_train,y_train_prediksi_9f_RF)\n",
    "print(conf_matrix_9f_RF)"
   ]
  },
  {
   "cell_type": "code",
   "execution_count": 51,
   "id": "f91901fd-98ec-45ab-9d91-438856a17690",
   "metadata": {},
   "outputs": [
    {
     "data": {
      "image/png": "[encoded data removed]",
      "text/plain": [
       "<Figure size 576x576 with 1 Axes>"
      ]
     },
     "metadata": {},
     "output_type": "display_data"
    }
   ],
   "source": [
    "mpl.style.use(['ggplot'])\n",
    "fig,ax = plt.subplots(figsize=(8,8))\n",
    "ax.imshow (conf_matrix_5f_RF)\n",
    "ax.grid(False)\n",
    "for i in range (len(conf_matrix_5f_RF[0])):\n",
    "    for j in range (len(conf_matrix_5f_RF[0])):\n",
    "        ax.text(j,i,conf_matrix_5f_RF[i,j])\n",
    "plt.show()"
   ]
  },
  {
   "cell_type": "code",
   "execution_count": 52,
   "id": "0baa0cb1-458d-4379-ac51-4079286c7112",
   "metadata": {},
   "outputs": [
    {
     "data": {
      "image/png": "[encoded data removed]",
      "text/plain": [
       "<Figure size 576x576 with 1 Axes>"
      ]
     },
     "metadata": {},
     "output_type": "display_data"
    }
   ],
   "source": [
    "mpl.style.use(['ggplot'])\n",
    "fig,ax = plt.subplots(figsize=(8,8))\n",
    "ax.imshow (conf_matrix_9f_RF)\n",
    "ax.grid(False)\n",
    "for i in range (len(conf_matrix_9f_RF[0])):\n",
    "    for j in range (len(conf_matrix_9f_RF[0])):\n",
    "        ax.text(j,i,conf_matrix_9f_RF[i,j])\n",
    "plt.show()"
   ]
  },
  {
   "cell_type": "code",
   "execution_count": null,
   "id": "9d23d3e5-a50e-45fa-a057-7928c28aee80",
   "metadata": {},
   "outputs": [],
   "source": [
    "### DECISION TREE"
   ]
  },
  {
   "cell_type": "code",
   "execution_count": 53,
   "id": "aca41f8b-ad8e-4108-a644-98d75fa5ffbc",
   "metadata": {},
   "outputs": [],
   "source": [
    "model_5f_DT = DecisionTreeClassifier().fit(x_5f_train,y_5f_train)\n",
    "\n",
    "\n",
    "model_9f_DT = DecisionTreeClassifier().fit(x_9f_train,y_9f_train)"
   ]
  },
  {
   "cell_type": "code",
   "execution_count": 54,
   "id": "d12f6c6f-d170-4a01-8688-68fc7150a408",
   "metadata": {},
   "outputs": [
    {
     "name": "stdout",
     "output_type": "stream",
     "text": [
      "[0 0 0 ... 0 0 0]\n",
      "[0 1 0 ... 0 1 0]\n"
     ]
    }
   ],
   "source": [
    "y_train_prediksi_5f_DT = model_5f_DT.predict(x_5f_train)\n",
    "print(y_train_prediksi_5f_DT)\n",
    "y_train_prediksi_9f_DT = model_9f_DT.predict(x_9f_train)\n",
    "print(y_train_prediksi_9f_DT)"
   ]
  },
  {
   "cell_type": "code",
   "execution_count": 55,
   "id": "97984f37-87a0-42d8-a988-aecdbc0d8bdf",
   "metadata": {},
   "outputs": [
    {
     "name": "stdout",
     "output_type": "stream",
     "text": [
      "performance model DT 5 features:  0.990002359325233\n",
      "performance model DT 9 features:  0.9984074554677362\n"
     ]
    }
   ],
   "source": [
    "perf_model_5f_DT = model_5f_DT.score(x_5f_train,y_5f_train)\n",
    "print('performance model DT 5 features: ',perf_model_5f_DT)\n",
    "perf_model_9f_DT = model_9f_DT.score(x_9f_train,y_9f_train)\n",
    "print('performance model DT 9 features: ',perf_model_9f_DT)"
   ]
  },
  {
   "cell_type": "code",
   "execution_count": 56,
   "id": "d70044e2-5192-4295-b581-2b56010cbf59",
   "metadata": {},
   "outputs": [
    {
     "name": "stdout",
     "output_type": "stream",
     "text": [
      "[[29961     3]\n",
      " [  336  3608]]\n",
      "[[29954     0]\n",
      " [   54  3900]]\n"
     ]
    }
   ],
   "source": [
    "conf_matrix_5f_DT = confusion_matrix(y_5f_train,y_train_prediksi_5f_DT)\n",
    "print(conf_matrix_5f_DT)\n",
    "conf_matrix_9f_DT = confusion_matrix(y_9f_train,y_train_prediksi_9f_DT)\n",
    "print(conf_matrix_9f_DT)"
   ]
  },
  {
   "cell_type": "code",
   "execution_count": 57,
   "id": "62fd1d49-a49f-4170-828b-21f252c00a00",
   "metadata": {},
   "outputs": [
    {
     "data": {
      "image/png": "[encoded data removed]",
      "text/plain": [
       "<Figure size 576x576 with 1 Axes>"
      ]
     },
     "metadata": {},
     "output_type": "display_data"
    }
   ],
   "source": [
    "mpl.style.use(['ggplot'])\n",
    "fig,ax = plt.subplots(figsize=(8,8))\n",
    "ax.imshow (conf_matrix_5f_DT)\n",
    "ax.grid(False)\n",
    "for i in range (len(conf_matrix_5f_DT[0])):\n",
    "    for j in range (len(conf_matrix_5f_DT[0])):\n",
    "        ax.text(j,i,conf_matrix_5f_DT[i,j])\n",
    "plt.show()"
   ]
  },
  {
   "cell_type": "code",
   "execution_count": 58,
   "id": "f50f71f3-5d31-40cd-89d5-9f2414574a27",
   "metadata": {},
   "outputs": [
    {
     "data": {
      "image/png": "[encoded data removed]",
      "text/plain": [
       "<Figure size 576x576 with 1 Axes>"
      ]
     },
     "metadata": {},
     "output_type": "display_data"
    }
   ],
   "source": [
    "mpl.style.use(['ggplot'])\n",
    "fig,ax = plt.subplots(figsize=(8,8))\n",
    "ax.imshow (conf_matrix_9f_DT)\n",
    "ax.grid(False)\n",
    "for i in range (len(conf_matrix_9f_DT[0])):\n",
    "    for j in range (len(conf_matrix_9f_DT[0])):\n",
    "        ax.text(j,i,conf_matrix_9f_DT[i,j])\n",
    "plt.show()"
   ]
  },
  {
   "cell_type": "code",
   "execution_count": null,
   "id": "1a19140e-00af-444d-843d-7b4605dcbb10",
   "metadata": {},
   "outputs": [],
   "source": [
    "###KESIMPULAN"
   ]
  },
  {
   "cell_type": "code",
   "execution_count": 59,
   "id": "a535c637-5596-4972-b84e-8bd846347117",
   "metadata": {},
   "outputs": [
    {
     "data": {
      "text/html": [
       "<div>\n",
       "<style scoped>\n",
       "    .dataframe tbody tr th:only-of-type {\n",
       "        vertical-align: middle;\n",
       "    }\n",
       "\n",
       "    .dataframe tbody tr th {\n",
       "        vertical-align: top;\n",
       "    }\n",
       "\n",
       "    .dataframe thead th {\n",
       "        text-align: right;\n",
       "    }\n",
       "</style>\n",
       "<table border=\"1\" class=\"dataframe\">\n",
       "  <thead>\n",
       "    <tr style=\"text-align: right;\">\n",
       "      <th></th>\n",
       "      <th>Model</th>\n",
       "      <th>Score</th>\n",
       "    </tr>\n",
       "  </thead>\n",
       "  <tbody>\n",
       "    <tr>\n",
       "      <th>0</th>\n",
       "      <td>k-NN</td>\n",
       "      <td>0.906970</td>\n",
       "    </tr>\n",
       "    <tr>\n",
       "      <th>1</th>\n",
       "      <td>Gaussian Naive Bayes</td>\n",
       "      <td>0.886870</td>\n",
       "    </tr>\n",
       "    <tr>\n",
       "      <th>2</th>\n",
       "      <td>Random Forest</td>\n",
       "      <td>0.989825</td>\n",
       "    </tr>\n",
       "    <tr>\n",
       "      <th>3</th>\n",
       "      <td>Decision Tree</td>\n",
       "      <td>0.990002</td>\n",
       "    </tr>\n",
       "  </tbody>\n",
       "</table>\n",
       "</div>"
      ],
      "text/plain": [
       "                  Model     Score\n",
       "0                  k-NN  0.906970\n",
       "1  Gaussian Naive Bayes  0.886870\n",
       "2         Random Forest  0.989825\n",
       "3         Decision Tree  0.990002"
      ]
     },
     "execution_count": 59,
     "metadata": {},
     "output_type": "execute_result"
    }
   ],
   "source": [
    "rekap_score_5f = {'Model':['k-NN', 'Gaussian Naive Bayes', 'Random Forest', 'Decision Tree'], \n",
    "        'Score':[performance_model_5f, perf_model_5f_GNB, perf_model_5f_RF, perf_model_5f_DT]} \n",
    "output_rekap_score_5f = pd.DataFrame(rekap_score_5f)\n",
    "output_rekap_score_5f"
   ]
  },
  {
   "cell_type": "code",
   "execution_count": 60,
   "id": "42348d20-f6a2-4a6c-b9cc-c1105c60dbf7",
   "metadata": {},
   "outputs": [
    {
     "data": {
      "text/html": [
       "<div>\n",
       "<style scoped>\n",
       "    .dataframe tbody tr th:only-of-type {\n",
       "        vertical-align: middle;\n",
       "    }\n",
       "\n",
       "    .dataframe tbody tr th {\n",
       "        vertical-align: top;\n",
       "    }\n",
       "\n",
       "    .dataframe thead th {\n",
       "        text-align: right;\n",
       "    }\n",
       "</style>\n",
       "<table border=\"1\" class=\"dataframe\">\n",
       "  <thead>\n",
       "    <tr style=\"text-align: right;\">\n",
       "      <th></th>\n",
       "      <th>Model</th>\n",
       "      <th>Score</th>\n",
       "    </tr>\n",
       "  </thead>\n",
       "  <tbody>\n",
       "    <tr>\n",
       "      <th>0</th>\n",
       "      <td>k-NN</td>\n",
       "      <td>0.908695</td>\n",
       "    </tr>\n",
       "    <tr>\n",
       "      <th>1</th>\n",
       "      <td>Gaussian Naive Bayes</td>\n",
       "      <td>0.888374</td>\n",
       "    </tr>\n",
       "    <tr>\n",
       "      <th>2</th>\n",
       "      <td>Random Forest</td>\n",
       "      <td>0.998348</td>\n",
       "    </tr>\n",
       "    <tr>\n",
       "      <th>3</th>\n",
       "      <td>Decision Tree</td>\n",
       "      <td>0.998407</td>\n",
       "    </tr>\n",
       "  </tbody>\n",
       "</table>\n",
       "</div>"
      ],
      "text/plain": [
       "                  Model     Score\n",
       "0                  k-NN  0.908695\n",
       "1  Gaussian Naive Bayes  0.888374\n",
       "2         Random Forest  0.998348\n",
       "3         Decision Tree  0.998407"
      ]
     },
     "execution_count": 60,
     "metadata": {},
     "output_type": "execute_result"
    }
   ],
   "source": [
    "rekap_score_9f = {'Model':['k-NN', 'Gaussian Naive Bayes', 'Random Forest', 'Decision Tree'], \n",
    "        'Score':[performance_model_9f, perf_model_9f_GNB, perf_model_9f_RF, perf_model_9f_DT]} \n",
    "output_rekap_score_9f = pd.DataFrame(rekap_score_9f)\n",
    "output_rekap_score_9f"
   ]
  },
  {
   "cell_type": "markdown",
   "id": "d62b4951-1545-48a1-9ce2-c1420122651a",
   "metadata": {},
   "source": [
    "dengan modelling menggunakan 5 maupun 9 feature, performance yang terbaik yang didapatkan adalah Decision Tree"
   ]
  }
 ],
 "metadata": {
  "kernelspec": {
   "display_name": "Python 3",
   "language": "python",
   "name": "python3"
  },
  "language_info": {
   "codemirror_mode": {
    "name": "ipython",
    "version": 3
   },
   "file_extension": ".py",
   "mimetype": "text/x-python",
   "name": "python",
   "nbconvert_exporter": "python",
   "pygments_lexer": "ipython3",
   "version": "3.8.8"
  }
 },
 "nbformat": 4,
 "nbformat_minor": 5
}

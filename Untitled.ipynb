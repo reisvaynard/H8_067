{
 "cells": [
  {
   "cell_type": "code",
   "execution_count": null,
   "id": "021b4cf6",
   "metadata": {},
   "outputs": [],
   "source": [
    "==\n",
    "!=\n",
    "<\n",
    ">\n",
    "<=\n",
    ">="
   ]
  },
  {
   "cell_type": "code",
   "execution_count": null,
   "id": "0ca455a4",
   "metadata": {},
   "outputs": [],
   "source": [
    "#If statement hasilnya boolean"
   ]
  },
  {
   "cell_type": "code",
   "execution_count": 2,
   "id": "b28299d9",
   "metadata": {},
   "outputs": [],
   "source": [
    "cuaca = 'hujan'\n",
    "\n",
    "if cuaca == 'cerah':\n",
    "    print('keluar')\n",
    "    print('makan diluar')"
   ]
  },
  {
   "cell_type": "code",
   "execution_count": 6,
   "id": "1ea7dd13",
   "metadata": {},
   "outputs": [
    {
     "name": "stdout",
     "output_type": "stream",
     "text": [
      "benar\n"
     ]
    }
   ],
   "source": [
    "x = 0\n",
    "\n",
    "if x < 1:\n",
    "    print('benar')"
   ]
  },
  {
   "cell_type": "code",
   "execution_count": 7,
   "id": "9bae72ea",
   "metadata": {},
   "outputs": [
    {
     "name": "stdout",
     "output_type": "stream",
     "text": [
      "benar\n",
      "...\n",
      "...\n",
      "benar\n",
      "...\n",
      "...\n",
      "wokeh\n",
      "berikutnya\n"
     ]
    }
   ],
   "source": [
    "x = 1\n",
    "y = 10\n",
    "if x >= 1:\n",
    "    print('benar')\n",
    "    print('...')\n",
    "    print('...')\n",
    "    \n",
    "    if y == 10:\n",
    "        print('benar')\n",
    "        print('...')\n",
    "        print('...')\n",
    "        \n",
    "        if x == 1:\n",
    "            print('wokeh')\n",
    "print('berikutnya')"
   ]
  },
  {
   "cell_type": "code",
   "execution_count": null,
   "id": "80e71d6e",
   "metadata": {},
   "outputs": [],
   "source": [
    "if 'foo' in ['foo', 'bar', 'baz']: # E1 terpenuhi\n",
    "    print('Outer Condition is true')\n",
    "    \n",
    "    if 10 > 20: # E2 tidak terpenuhi\n",
    "        print('Inner Condition') # statement 2 tidak jalan\n",
    "        "
   ]
  },
  {
   "cell_type": "code",
   "execution_count": 8,
   "id": "885a82fd",
   "metadata": {},
   "outputs": [
    {
     "name": "stdout",
     "output_type": "stream",
     "text": [
      "NOK\n"
     ]
    }
   ],
   "source": [
    "x = 10\n",
    "\n",
    "if x < 10: # E1\n",
    "    print('OK') #S1\n",
    "else: #E1\n",
    "    print('NOK') #S2\n",
    "    "
   ]
  },
  {
   "cell_type": "code",
   "execution_count": 9,
   "id": "98616c92",
   "metadata": {},
   "outputs": [
    {
     "name": "stdout",
     "output_type": "stream",
     "text": [
      "THIS1\n"
     ]
    }
   ],
   "source": [
    "y = 100\n",
    "\n",
    "if y == 90: #E1\n",
    "    print('OK')\n",
    "    \n",
    "elif y == 80:\n",
    "    print('THIS')\n",
    "    \n",
    "elif y == 100:\n",
    "    print('THIS1')\n",
    "    \n",
    "elif y == 20:\n",
    "    print('THIS2')\n",
    "    \n",
    "else:\n",
    "    print('NOT')"
   ]
  },
  {
   "cell_type": "code",
   "execution_count": 11,
   "id": "8affc62c",
   "metadata": {},
   "outputs": [
    {
     "name": "stdout",
     "output_type": "stream",
     "text": [
      "(second suite)\n",
      "x is large\n"
     ]
    }
   ],
   "source": [
    "x = 120\n",
    "\n",
    "if x < 50:\n",
    "    print('(first suite)')\n",
    "    print('x is small')\n",
    "else:\n",
    "    print('(second suite)')\n",
    "    print('x is large')"
   ]
  },
  {
   "cell_type": "code",
   "execution_count": 13,
   "id": "87d21f27",
   "metadata": {},
   "outputs": [
    {
     "name": "stdout",
     "output_type": "stream",
     "text": [
      "beli pulpen\n"
     ]
    }
   ],
   "source": [
    "harga_buku = 20000\n",
    "harga_majalah = 5000\n",
    "uang = 2000\n",
    "harga_pulpen = 1000\n",
    "\n",
    "if uang > harga_buku: # E1\n",
    "    print('beli buku') #beli\n",
    "\n",
    "elif uang > harga_pulpen: # E1\n",
    "    print('beli pulpen')\n",
    "    \n",
    "else:\n",
    "    print('ngga cukup')\n",
    "    "
   ]
  },
  {
   "cell_type": "code",
   "execution_count": 14,
   "id": "ea5fdba8",
   "metadata": {},
   "outputs": [
    {
     "name": "stdout",
     "output_type": "stream",
     "text": [
      "Hai hack\n"
     ]
    }
   ],
   "source": [
    "name = 'Hacktiv8'\n",
    "if name == 'Fred':\n",
    "    print('Hai Fred')\n",
    "elif name == 'Xander':\n",
    "    print('Hai Xander')\n",
    "elif name == 'Hacktiv8':\n",
    "    print('Hai hack')\n",
    "elif name == 'Arnold':\n",
    "    print('Hai Arnold')\n",
    "else:\n",
    "    print('I Dont Know')\n"
   ]
  },
  {
   "cell_type": "code",
   "execution_count": 15,
   "id": "a070c7a0",
   "metadata": {},
   "outputs": [
    {
     "name": "stdout",
     "output_type": "stream",
     "text": [
      "Hai Hack\n",
      "apa kabar\n",
      "sudah makan\n"
     ]
    }
   ],
   "source": [
    "if name == 'Hacktiv8' : print('Hai Hack'); print('apa kabar'); print('sudah makan')"
   ]
  },
  {
   "cell_type": "code",
   "execution_count": 17,
   "id": "f1f02600",
   "metadata": {},
   "outputs": [
    {
     "name": "stdout",
     "output_type": "stream",
     "text": [
      "Salah\n"
     ]
    }
   ],
   "source": [
    "y = 20\n",
    "x = 'Benar' if y == 50 else 'Salah'\n",
    "print(x)"
   ]
  },
  {
   "cell_type": "code",
   "execution_count": 18,
   "id": "2323f5f7",
   "metadata": {},
   "outputs": [
    {
     "name": "stdout",
     "output_type": "stream",
     "text": [
      "7\n"
     ]
    }
   ],
   "source": [
    "a = 1\n",
    "b = 2\n",
    "c = 3\n",
    "y = 30\n",
    "\n",
    "x = a+b*c if y == 50 else 'Salah'\n",
    "print(x)"
   ]
  },
  {
   "cell_type": "code",
   "execution_count": 20,
   "id": "4e1fe6e0",
   "metadata": {},
   "outputs": [
    {
     "name": "stdout",
     "output_type": "stream",
     "text": [
      "corge\n",
      "grault\n"
     ]
    }
   ],
   "source": [
    "#Tidak Disarankan\n",
    "x = 3;\n",
    "if x == 1: print('foo'); print('bar'); print('baz')\n",
    "elif x == 2: print('qux'); print('quux')\n",
    "else: print('corge'); print('grault')"
   ]
  },
  {
   "cell_type": "code",
   "execution_count": null,
   "id": "1213afdd",
   "metadata": {},
   "outputs": [],
   "source": [
    "\n",
    "x = 3;\n",
    "if x == 1: \n",
    "    print('foo'); \n",
    "    print('bar'); \n",
    "    print('baz')\n",
    "elif x == 2: \n",
    "    print('qux'); \n",
    "    print('quux')\n",
    "else: \n",
    "    print('corge'); \n",
    "    print('grault')"
   ]
  },
  {
   "cell_type": "code",
   "execution_count": 21,
   "id": "c2dab2a8",
   "metadata": {},
   "outputs": [
    {
     "name": "stdout",
     "output_type": "stream",
     "text": [
      "False\n",
      "True\n",
      "True\n"
     ]
    }
   ],
   "source": [
    "print('A' not in 'ABC')\n",
    "print('A' in ['A', 'B', 'C'])\n",
    "print('A' in ('A', 'B', 'C'))"
   ]
  },
  {
   "cell_type": "code",
   "execution_count": 24,
   "id": "12e22f2a",
   "metadata": {},
   "outputs": [
    {
     "name": "stdout",
     "output_type": "stream",
     "text": [
      "Ayo ke pantai\n",
      "------------------------------\n",
      "Ayo  pantai\n"
     ]
    }
   ],
   "source": [
    "hujan = False\n",
    "print('Ayo ke', 'pantai' if not hujan else 'dirumah aja')\n",
    "#                               False\n",
    "\n",
    "print('-'*30)\n",
    "\n",
    "abc = 'Ayo ' \n",
    "if not hujan:\n",
    "    print(abc, 'pantai')\n",
    "else:\n",
    "    print(abc, 'rumah aja')"
   ]
  },
  {
   "cell_type": "code",
   "execution_count": 28,
   "id": "24b7c992",
   "metadata": {},
   "outputs": [
    {
     "ename": "SyntaxError",
     "evalue": "invalid syntax (<ipython-input-28-d50845ac38dc>, line 10)",
     "output_type": "error",
     "traceback": [
      "\u001b[1;36m  File \u001b[1;32m\"<ipython-input-28-d50845ac38dc>\"\u001b[1;36m, line \u001b[1;32m10\u001b[0m\n\u001b[1;33m    aktivitas = 'Main Bola' if cuaca == 'cerah' else ('berenang' if cuaca == 'berawan')\u001b[0m\n\u001b[1;37m                                                                                      ^\u001b[0m\n\u001b[1;31mSyntaxError\u001b[0m\u001b[1;31m:\u001b[0m invalid syntax\n"
     ]
    }
   ],
   "source": [
    "# cerah, berawan, hujan, mendung, terik\n",
    "\"\"\"\n",
    "cerah -> main bola\n",
    "berawan - > berenang\n",
    "hujan -> di rumah\n",
    "terik -> tidur\n",
    "\"\"\"\n",
    "\n",
    "cuaca = 'cerah'\n",
    "aktivitas = 'Main Bola' if cuaca == 'cerah' else ('berenang' if cuaca == 'berawan')\n",
    "print(aktivitas)"
   ]
  },
  {
   "cell_type": "code",
   "execution_count": null,
   "id": "2803a249",
   "metadata": {},
   "outputs": [],
   "source": []
  },
  {
   "cell_type": "code",
   "execution_count": 25,
   "id": "fff05a44",
   "metadata": {},
   "outputs": [
    {
     "data": {
      "text/plain": [
       "'no'"
      ]
     },
     "execution_count": 25,
     "metadata": {},
     "output_type": "execute_result"
    }
   ],
   "source": [
    "'yes' if ('qux' in ['foo', 'bar', 'baz']) else 'no'"
   ]
  },
  {
   "cell_type": "code",
   "execution_count": null,
   "id": "4ca9030f",
   "metadata": {},
   "outputs": [],
   "source": [
    "if True:\n",
    "    pass\n",
    "print('foo')"
   ]
  },
  {
   "cell_type": "code",
   "execution_count": 29,
   "id": "fe8d6a53",
   "metadata": {},
   "outputs": [],
   "source": [
    "##Looping / Perulangan / Iterasi"
   ]
  },
  {
   "cell_type": "code",
   "execution_count": 32,
   "id": "0fc01115",
   "metadata": {},
   "outputs": [
    {
     "name": "stdout",
     "output_type": "stream",
     "text": [
      "Ha0\n",
      "Ha1\n",
      "Ha2\n",
      "Ha3\n",
      "Ha4\n",
      "Ha5\n",
      "Ha6\n",
      "Ha7\n",
      "Ha8\n",
      "Ha9\n"
     ]
    }
   ],
   "source": [
    "n = 0\n",
    "print ()\n",
    "while True:\n",
    "    print('Ha{}'.format(n))\n",
    "    n += 1\n",
    "    if n == 10:\n",
    "        break"
   ]
  },
  {
   "cell_type": "code",
   "execution_count": null,
   "id": "ece086c9",
   "metadata": {},
   "outputs": [],
   "source": []
  }
 ],
 "metadata": {
  "kernelspec": {
   "display_name": "Python 3",
   "language": "python",
   "name": "python3"
  },
  "language_info": {
   "codemirror_mode": {
    "name": "ipython",
    "version": 3
   },
   "file_extension": ".py",
   "mimetype": "text/x-python",
   "name": "python",
   "nbconvert_exporter": "python",
   "pygments_lexer": "ipython3",
   "version": "3.8.8"
  }
 },
 "nbformat": 4,
 "nbformat_minor": 5
}

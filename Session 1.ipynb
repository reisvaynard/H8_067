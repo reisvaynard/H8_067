{
 "cells": [
  {
   "cell_type": "markdown",
   "id": "8fc7839f",
   "metadata": {},
   "source": [
    "# HEADER"
   ]
  },
  {
   "cell_type": "code",
   "execution_count": 5,
   "id": "096ce28f",
   "metadata": {
    "scrolled": false
   },
   "outputs": [
    {
     "name": "stdout",
     "output_type": "stream",
     "text": [
      "Hai, nama saya Aji, umur saya 32\n"
     ]
    }
   ],
   "source": [
    "orang1 = \"Aji\"\n",
    "umur1 = 32\n",
    "print(\"Hai, nama saya \" + orang1 + \", umur saya \" + str(umur1))"
   ]
  },
  {
   "cell_type": "code",
   "execution_count": null,
   "id": "39d5602e",
   "metadata": {},
   "outputs": [],
   "source": []
  },
  {
   "cell_type": "code",
   "execution_count": null,
   "id": "929b026e",
   "metadata": {},
   "outputs": [],
   "source": []
  }
 ],
 "metadata": {
  "kernelspec": {
   "display_name": "Python 3",
   "language": "python",
   "name": "python3"
  },
  "language_info": {
   "codemirror_mode": {
    "name": "ipython",
    "version": 3
   },
   "file_extension": ".py",
   "mimetype": "text/x-python",
   "name": "python",
   "nbconvert_exporter": "python",
   "pygments_lexer": "ipython3",
   "version": "3.8.8"
  }
 },
 "nbformat": 4,
 "nbformat_minor": 5
}

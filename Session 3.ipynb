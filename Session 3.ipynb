{
 "cells": [
  {
   "cell_type": "code",
   "execution_count": 1,
   "id": "dbd40b87-276f-4f39-8978-ce90af4dcb29",
   "metadata": {},
   "outputs": [
    {
     "name": "stdout",
     "output_type": "stream",
     "text": [
      "Result =  10.0\n"
     ]
    }
   ],
   "source": [
    "def hitung(angka_1, angka_2, angka_3):\n",
    "    result = angka_1 + angka_2\n",
    "    result = result / angka_3\n",
    "    ##print('Result = ', result)\n",
    "    return result\n",
    "    \n",
    "x = 10\n",
    "y = 20\n",
    "z = 3\n",
    "\n",
    "ABC= hitung(angka_1=x, angka_2=y, angka_3=z)"
   ]
  },
  {
   "cell_type": "code",
   "execution_count": 6,
   "id": "85e29736-fe00-48c4-8086-3b7564dba6dc",
   "metadata": {},
   "outputs": [
    {
     "ename": "NameError",
     "evalue": "name 'ABC' is not defined",
     "output_type": "error",
     "traceback": [
      "\u001b[0;31m---------------------------------------------------------------------------\u001b[0m",
      "\u001b[0;31mNameError\u001b[0m                                 Traceback (most recent call last)",
      "\u001b[0;32m<ipython-input-6-2fd8cc483600>\u001b[0m in \u001b[0;36m<module>\u001b[0;34m\u001b[0m\n\u001b[0;32m----> 1\u001b[0;31m \u001b[0mprint\u001b[0m\u001b[0;34m(\u001b[0m\u001b[0mABC\u001b[0m\u001b[0;34m)\u001b[0m\u001b[0;34m\u001b[0m\u001b[0;34m\u001b[0m\u001b[0m\n\u001b[0m",
      "\u001b[0;31mNameError\u001b[0m: name 'ABC' is not defined"
     ]
    }
   ],
   "source": [
    "print(ABC)"
   ]
  },
  {
   "cell_type": "code",
   "execution_count": null,
   "id": "38cab4b4-6d4e-4f56-95aa-073cd1562018",
   "metadata": {},
   "outputs": [],
   "source": [
    "hitung() #shift + tab untuk lihat detail function"
   ]
  },
  {
   "cell_type": "code",
   "execution_count": 7,
   "id": "75b26785-03f4-48b1-b352-a6f0b69deb34",
   "metadata": {},
   "outputs": [
    {
     "name": "stdout",
     "output_type": "stream",
     "text": [
      "before using func :\n",
      "[1, 2, 3]\n",
      "after using func :\n",
      "[1, 2, 3, 'A', 'B', 'C']\n"
     ]
    }
   ],
   "source": [
    "def edit_list(mylist):\n",
    "    \"Contoh List\"\n",
    "    mylist.extend(['A', 'B', 'C'])\n",
    "    \n",
    "mylist = [1,2,3]\n",
    "print('before using func :')\n",
    "print(mylist)\n",
    "\n",
    "print('after using func :')\n",
    "edit_list(mylist)\n",
    "print(mylist)"
   ]
  },
  {
   "cell_type": "code",
   "execution_count": 8,
   "id": "7fcdd235-99b9-43da-adf4-07e2e7ea145e",
   "metadata": {},
   "outputs": [
    {
     "name": "stdout",
     "output_type": "stream",
     "text": [
      "before using func :\n",
      "5\n",
      "after using func :\n",
      "10\n"
     ]
    }
   ],
   "source": [
    "def edit_number(mynum):\n",
    "    \"Contoh List\"\n",
    "    mynum = mynum + 5\n",
    "    return mynum\n",
    "    \n",
    "mynum = 5\n",
    "print('before using func :')\n",
    "print(mynum)\n",
    "\n",
    "print('after using func :')\n",
    "mynum = edit_number(mynum)\n",
    "print(mynum)"
   ]
  },
  {
   "cell_type": "code",
   "execution_count": 12,
   "id": "a2c8eb8e-f321-46f7-a297-a7ff09126a53",
   "metadata": {},
   "outputs": [
    {
     "name": "stdout",
     "output_type": "stream",
     "text": [
      "Output is :  1\n",
      "()\n",
      "----------------------------------------\n",
      "Output is :  1\n",
      "(2, 3, 4, 5)\n",
      "2\n",
      "3\n",
      "4\n",
      "5\n"
     ]
    }
   ],
   "source": [
    "def func_1(A, *vartuple):\n",
    "    print('Output is : ', A)\n",
    "    print(vartuple)\n",
    "    for var in vartuple:\n",
    "        print(var)\n",
    "        \n",
    "func_1('1')\n",
    "print('-'*40)\n",
    "func_1(1, 2, 3, 4, 5)"
   ]
  },
  {
   "cell_type": "code",
   "execution_count": 13,
   "id": "4fb9dd17-1d52-41bd-9c4f-3cd73a91d1ef",
   "metadata": {},
   "outputs": [
    {
     "data": {
      "text/plain": [
       "6"
      ]
     },
     "execution_count": 13,
     "metadata": {},
     "output_type": "execute_result"
    }
   ],
   "source": [
    "sum_ = lambda x, y, z : x + y + z\n",
    "\n",
    "sum_(1,2,3)"
   ]
  },
  {
   "cell_type": "code",
   "execution_count": 14,
   "id": "903c959c-9306-464c-ab8d-01479dc7e143",
   "metadata": {},
   "outputs": [
    {
     "name": "stdout",
     "output_type": "stream",
     "text": [
      "0\n",
      "Inside 40\n",
      "Outside 40\n"
     ]
    }
   ],
   "source": [
    "def sum_(arg1, arg2):\n",
    "    total = arg1 + arg2\n",
    "    total2 = total + arg1\n",
    "    print('Inside', total2)\n",
    "    return total2\n",
    "\n",
    "total = 0\n",
    "print(total)\n",
    "total = sum_(10, 20)\n",
    "print('Outside', total)"
   ]
  },
  {
   "cell_type": "code",
   "execution_count": 16,
   "id": "a37c333a-91af-4355-b6c5-de9717ff70c0",
   "metadata": {},
   "outputs": [
    {
     "ename": "NameError",
     "evalue": "name 'total2' is not defined",
     "output_type": "error",
     "traceback": [
      "\u001b[0;31m---------------------------------------------------------------------------\u001b[0m",
      "\u001b[0;31mNameError\u001b[0m                                 Traceback (most recent call last)",
      "\u001b[0;32m<ipython-input-16-4959169a7c9c>\u001b[0m in \u001b[0;36m<module>\u001b[0;34m\u001b[0m\n\u001b[0;32m----> 1\u001b[0;31m \u001b[0mtotal2\u001b[0m\u001b[0;34m\u001b[0m\u001b[0;34m\u001b[0m\u001b[0m\n\u001b[0m",
      "\u001b[0;31mNameError\u001b[0m: name 'total2' is not defined"
     ]
    }
   ],
   "source": [
    "total2"
   ]
  },
  {
   "cell_type": "code",
   "execution_count": 18,
   "id": "22572b92-20af-4791-ab69-2d14c5325872",
   "metadata": {},
   "outputs": [
    {
     "name": "stdout",
     "output_type": "stream",
     "text": [
      "Global 10\n",
      "Local 30\n",
      "Global 10\n",
      "1000\n"
     ]
    }
   ],
   "source": [
    "x = 10\n",
    "\n",
    "def test(x):\n",
    "    print('Global', x)\n",
    "    x = 30\n",
    "    y = 1000\n",
    "    print('Local', x)\n",
    "    return y\n",
    "\n",
    "y = test(x)\n",
    "print('Global', x)\n",
    "print(y)"
   ]
  },
  {
   "cell_type": "code",
   "execution_count": 21,
   "id": "895b97e0-13bc-4b02-8864-382522718774",
   "metadata": {},
   "outputs": [
    {
     "name": "stdout",
     "output_type": "stream",
     "text": [
      "(3, 4, ['A'])\n"
     ]
    }
   ],
   "source": [
    "def test(x, y, z):\n",
    "    total1 = x + y\n",
    "    total2 = x + z\n",
    "    mylist = ['A', 'B']\n",
    "    return total1, total2, mylist\n",
    "\n",
    "a = test(1,2,3)\n",
    "print(a)"
   ]
  },
  {
   "cell_type": "code",
   "execution_count": 23,
   "id": "3c2fdcb1-0598-4df3-b321-0f14e8f305a4",
   "metadata": {},
   "outputs": [
    {
     "name": "stdout",
     "output_type": "stream",
     "text": [
      "3\n",
      "4\n",
      "A\n"
     ]
    }
   ],
   "source": [
    "a,b,c = test(1,2,3)\n",
    "print(a)\n",
    "print(b)\n",
    "print(c[0])"
   ]
  },
  {
   "cell_type": "code",
   "execution_count": 24,
   "id": "8f59a8fd-32ad-413c-a607-36b235030760",
   "metadata": {},
   "outputs": [
    {
     "data": {
      "text/plain": [
       "50"
      ]
     },
     "execution_count": 24,
     "metadata": {},
     "output_type": "execute_result"
    }
   ],
   "source": [
    "jumlah_kucing = 20\n",
    "\n",
    "def jumlahHewan():\n",
    "    jumlah_anjing = 30\n",
    "    return jumlah_kucing + jumlah_anjing\n",
    "\n",
    "def jumlahKelinci():\n",
    "    return jumlah_kucing + jumlah_kucing + jumlah_anjing\n",
    "\n",
    "jumlahHewan()"
   ]
  },
  {
   "cell_type": "code",
   "execution_count": null,
   "id": "15afada0-2886-4afc-b9df-f7047bd784a9",
   "metadata": {},
   "outputs": [],
   "source": [
    "s = \"Hacktiv8-PTP Python for DS\"\n",
    "a = [100, 200, 300]\n",
    "\n",
    "def foo(arg):\n",
    "    print(f'arg = {arg}')\n",
    "    print('arg_lain = {}'.format(arg))\n",
    "\n",
    "class Foo:\n",
    "    pass"
   ]
  },
  {
   "cell_type": "code",
   "execution_count": 1,
   "id": "04ec79a5-cc3d-452d-b9bf-76e9b281e318",
   "metadata": {},
   "outputs": [],
   "source": [
    "import mod"
   ]
  },
  {
   "cell_type": "code",
   "execution_count": 2,
   "id": "9339366a-86a4-4bb5-b53d-b604f1ead6cf",
   "metadata": {},
   "outputs": [
    {
     "name": "stdout",
     "output_type": "stream",
     "text": [
      "arg = TEST\n"
     ]
    }
   ],
   "source": [
    "mod.foo('TEST')"
   ]
  },
  {
   "cell_type": "code",
   "execution_count": 3,
   "id": "70063253-3996-40e3-8969-b306133e710f",
   "metadata": {},
   "outputs": [],
   "source": [
    "from mod import a as ABC, s as XYZ"
   ]
  },
  {
   "cell_type": "code",
   "execution_count": 14,
   "id": "91e99f45-3f7a-4142-862f-81ca60d3b9ac",
   "metadata": {},
   "outputs": [
    {
     "data": {
      "text/plain": [
       "[100, 200, 300]"
      ]
     },
     "execution_count": 14,
     "metadata": {},
     "output_type": "execute_result"
    }
   ],
   "source": [
    "ABC"
   ]
  },
  {
   "cell_type": "code",
   "execution_count": 15,
   "id": "0bb1cb58-6734-4e61-8f17-1c7d0db1406e",
   "metadata": {},
   "outputs": [
    {
     "data": {
      "text/plain": [
       "'Hacktiv8-PTP Python for DS'"
      ]
     },
     "execution_count": 15,
     "metadata": {},
     "output_type": "execute_result"
    }
   ],
   "source": [
    "XYZ"
   ]
  },
  {
   "cell_type": "code",
   "execution_count": 2,
   "id": "7ff1e4b9-9f41-43f8-a980-ecdd63d102f8",
   "metadata": {},
   "outputs": [],
   "source": [
    "from mod import x"
   ]
  },
  {
   "cell_type": "code",
   "execution_count": 3,
   "id": "bd9eb552-66d8-4c08-8616-62f2dad98f44",
   "metadata": {},
   "outputs": [
    {
     "data": {
      "text/plain": [
       "['saya', 'anda']"
      ]
     },
     "execution_count": 3,
     "metadata": {},
     "output_type": "execute_result"
    }
   ],
   "source": [
    "x"
   ]
  },
  {
   "cell_type": "code",
   "execution_count": 4,
   "id": "cd3a84ef-0f89-4553-babf-1052ed12e9a7",
   "metadata": {},
   "outputs": [],
   "source": [
    "import fact"
   ]
  },
  {
   "cell_type": "code",
   "execution_count": 6,
   "id": "4eacb86f-4545-4525-aa52-9531acfea4a6",
   "metadata": {},
   "outputs": [],
   "source": [
    "from fact import fact"
   ]
  },
  {
   "cell_type": "code",
   "execution_count": 8,
   "id": "ffeef1ee-179d-4c4c-ac18-bc5704872820",
   "metadata": {},
   "outputs": [
    {
     "data": {
      "text/plain": [
       "6"
      ]
     },
     "execution_count": 8,
     "metadata": {},
     "output_type": "execute_result"
    }
   ],
   "source": [
    "n = 3\n",
    "fact(n)"
   ]
  }
 ],
 "metadata": {
  "kernelspec": {
   "display_name": "Python 3",
   "language": "python",
   "name": "python3"
  },
  "language_info": {
   "codemirror_mode": {
    "name": "ipython",
    "version": 3
   },
   "file_extension": ".py",
   "mimetype": "text/x-python",
   "name": "python",
   "nbconvert_exporter": "python",
   "pygments_lexer": "ipython3",
   "version": "3.8.8"
  },
  "toc-autonumbering": true,
  "toc-showcode": true,
  "toc-showmarkdowntxt": true
 },
 "nbformat": 4,
 "nbformat_minor": 5
}

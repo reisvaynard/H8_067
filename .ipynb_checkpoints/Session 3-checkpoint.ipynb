{
 "cells": [
  {
   "cell_type": "code",
   "execution_count": 1,
   "id": "dbd40b87-276f-4f39-8978-ce90af4dcb29",
   "metadata": {},
   "outputs": [
    {
     "name": "stdout",
     "output_type": "stream",
     "text": [
      "Result =  10.0\n"
     ]
    }
   ],
   "source": [
    "def hitung(angka_1, angka_2, angka_3):\n",
    "    result = angka_1 + angka_2\n",
    "    result = result / angka_3\n",
    "    ##print('Result = ', result)\n",
    "    return result\n",
    "    \n",
    "x = 10\n",
    "y = 20\n",
    "z = 3\n",
    "\n",
    "ABC= hitung(angka_1=x, angka_2=y, angka_3=z)"
   ]
  },
  {
   "cell_type": "code",
   "execution_count": 6,
   "id": "85e29736-fe00-48c4-8086-3b7564dba6dc",
   "metadata": {},
   "outputs": [
    {
     "ename": "NameError",
     "evalue": "name 'ABC' is not defined",
     "output_type": "error",
     "traceback": [
      "\u001b[0;31m---------------------------------------------------------------------------\u001b[0m",
      "\u001b[0;31mNameError\u001b[0m                                 Traceback (most recent call last)",
      "\u001b[0;32m<ipython-input-6-2fd8cc483600>\u001b[0m in \u001b[0;36m<module>\u001b[0;34m\u001b[0m\n\u001b[0;32m----> 1\u001b[0;31m \u001b[0mprint\u001b[0m\u001b[0;34m(\u001b[0m\u001b[0mABC\u001b[0m\u001b[0;34m)\u001b[0m\u001b[0;34m\u001b[0m\u001b[0;34m\u001b[0m\u001b[0m\n\u001b[0m",
      "\u001b[0;31mNameError\u001b[0m: name 'ABC' is not defined"
     ]
    }
   ],
   "source": [
    "print(ABC)"
   ]
  },
  {
   "cell_type": "code",
   "execution_count": null,
   "id": "38cab4b4-6d4e-4f56-95aa-073cd1562018",
   "metadata": {},
   "outputs": [],
   "source": [
    "hitung() #shift + tab untuk lihat detail function"
   ]
  },
  {
   "cell_type": "code",
   "execution_count": 7,
   "id": "75b26785-03f4-48b1-b352-a6f0b69deb34",
   "metadata": {},
   "outputs": [
    {
     "name": "stdout",
     "output_type": "stream",
     "text": [
      "before using func :\n",
      "[1, 2, 3]\n",
      "after using func :\n",
      "[1, 2, 3, 'A', 'B', 'C']\n"
     ]
    }
   ],
   "source": [
    "def edit_list(mylist):\n",
    "    \"Contoh List\"\n",
    "    mylist.extend(['A', 'B', 'C'])\n",
    "    \n",
    "mylist = [1,2,3]\n",
    "print('before using func :')\n",
    "print(mylist)\n",
    "\n",
    "print('after using func :')\n",
    "edit_list(mylist)\n",
    "print(mylist)"
   ]
  },
  {
   "cell_type": "code",
   "execution_count": 8,
   "id": "7fcdd235-99b9-43da-adf4-07e2e7ea145e",
   "metadata": {},
   "outputs": [
    {
     "name": "stdout",
     "output_type": "stream",
     "text": [
      "before using func :\n",
      "5\n",
      "after using func :\n",
      "10\n"
     ]
    }
   ],
   "source": [
    "def edit_number(mynum):\n",
    "    \"Contoh List\"\n",
    "    mynum = mynum + 5\n",
    "    return mynum\n",
    "    \n",
    "mynum = 5\n",
    "print('before using func :')\n",
    "print(mynum)\n",
    "\n",
    "print('after using func :')\n",
    "mynum = edit_number(mynum)\n",
    "print(mynum)"
   ]
  }
 ],
 "metadata": {
  "kernelspec": {
   "display_name": "Python 3",
   "language": "python",
   "name": "python3"
  },
  "language_info": {
   "codemirror_mode": {
    "name": "ipython",
    "version": 3
   },
   "file_extension": ".py",
   "mimetype": "text/x-python",
   "name": "python",
   "nbconvert_exporter": "python",
   "pygments_lexer": "ipython3",
   "version": "3.8.8"
  }
 },
 "nbformat": 4,
 "nbformat_minor": 5
}
